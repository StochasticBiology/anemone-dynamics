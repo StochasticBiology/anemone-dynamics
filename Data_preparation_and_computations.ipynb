{
 "cells": [
  {
   "cell_type": "markdown",
   "id": "3b0f568f",
   "metadata": {
    "id": "3b0f568f"
   },
   "source": [
    "# Supplemental code for the paper 'Body plasticity in sea anemones'\n",
    "\n",
    "# by Belén García Pascual, University of Bergen"
   ]
  },
  {
   "cell_type": "code",
   "execution_count": 2,
   "id": "1831542e",
   "metadata": {
    "id": "1831542e"
   },
   "outputs": [],
   "source": [
    "#imports\n",
    "import numpy as np\n",
    "import pandas as pd\n",
    "import matplotlib.pyplot as plt \n",
    "import seaborn as sns"
   ]
  },
  {
   "cell_type": "markdown",
   "id": "3275b4dd",
   "metadata": {
    "id": "3275b4dd"
   },
   "source": [
    "# 1. Data preparation for feeding intervals"
   ]
  },
  {
   "cell_type": "markdown",
   "id": "f4c16367",
   "metadata": {
    "id": "f4c16367"
   },
   "source": [
    "We merge the datasets for body size, cell number and cell size during the feeding period between day 0 and day 10. \n",
    "There are some extra data points for body size of individuals whose cell number and cell size were not measured, so we remove those points. We also create new columns for the logarithmic transformation in base e of the measurements of body size, cell number and cell size. The format of the final dataset is in .csv."
   ]
  },
  {
   "cell_type": "code",
   "execution_count": 3,
   "id": "6c545e25",
   "metadata": {
    "colab": {
     "base_uri": "https://localhost:8080/",
     "height": 398
    },
    "executionInfo": {
     "elapsed": 300,
     "status": "error",
     "timestamp": 1684170477149,
     "user": {
      "displayName": "Belén García Pascual",
      "userId": "13343535263540880083"
     },
     "user_tz": -120
    },
    "id": "6c545e25",
    "outputId": "e304ec67-eaec-40cc-92eb-edd2ddda24d1",
    "scrolled": false
   },
   "outputs": [
    {
     "data": {
      "text/html": [
       "<div>\n",
       "<style scoped>\n",
       "    .dataframe tbody tr th:only-of-type {\n",
       "        vertical-align: middle;\n",
       "    }\n",
       "\n",
       "    .dataframe tbody tr th {\n",
       "        vertical-align: top;\n",
       "    }\n",
       "\n",
       "    .dataframe thead th {\n",
       "        text-align: right;\n",
       "    }\n",
       "</style>\n",
       "<table border=\"1\" class=\"dataframe\">\n",
       "  <thead>\n",
       "    <tr style=\"text-align: right;\">\n",
       "      <th></th>\n",
       "      <th>Day</th>\n",
       "      <th>Body_size_in_mm2</th>\n",
       "    </tr>\n",
       "  </thead>\n",
       "  <tbody>\n",
       "    <tr>\n",
       "      <th>F_0d_1</th>\n",
       "      <td>0</td>\n",
       "      <td>0.290889</td>\n",
       "    </tr>\n",
       "    <tr>\n",
       "      <th>F_0d_2</th>\n",
       "      <td>0</td>\n",
       "      <td>0.324355</td>\n",
       "    </tr>\n",
       "    <tr>\n",
       "      <th>F_0d_3</th>\n",
       "      <td>0</td>\n",
       "      <td>0.543924</td>\n",
       "    </tr>\n",
       "    <tr>\n",
       "      <th>F_0d_4</th>\n",
       "      <td>0</td>\n",
       "      <td>0.632486</td>\n",
       "    </tr>\n",
       "    <tr>\n",
       "      <th>F_0d_5</th>\n",
       "      <td>0</td>\n",
       "      <td>0.290277</td>\n",
       "    </tr>\n",
       "  </tbody>\n",
       "</table>\n",
       "</div>"
      ],
      "text/plain": [
       "        Day  Body_size_in_mm2 \n",
       "F_0d_1    0           0.290889\n",
       "F_0d_2    0           0.324355\n",
       "F_0d_3    0           0.543924\n",
       "F_0d_4    0           0.632486\n",
       "F_0d_5    0           0.290277"
      ]
     },
     "execution_count": 3,
     "metadata": {},
     "output_type": "execute_result"
    }
   ],
   "source": [
    "#extract the data for body size\n",
    "df=pd.read_excel('Data/Growth_Body size_cell size_cell number_cell cycle.xlsx', sheet_name='Body size', index_col=0, engine='openpyxl')\n",
    "df_body=df[[\"Body_size_in_mm2 \"]]\n",
    "df_day=df[[\"Day\"]]\n",
    "df_gb=pd.concat([df_day, df_body], axis=1)\n",
    "df_gb.head()"
   ]
  },
  {
   "cell_type": "code",
   "execution_count": 3,
   "id": "ed30913a",
   "metadata": {
    "id": "ed30913a",
    "outputId": "78c5dc57-00c3-4fe7-bbd1-0817a2986c48"
   },
   "outputs": [
    {
     "data": {
      "text/plain": [
       "144"
      ]
     },
     "execution_count": 3,
     "metadata": {},
     "output_type": "execute_result"
    }
   ],
   "source": [
    "len(df_gb.index)"
   ]
  },
  {
   "cell_type": "code",
   "execution_count": 4,
   "id": "c35e60f0",
   "metadata": {
    "id": "c35e60f0",
    "outputId": "b3b5283e-560e-4f32-981b-4029b768e14c"
   },
   "outputs": [
    {
     "data": {
      "text/html": [
       "<div>\n",
       "<style scoped>\n",
       "    .dataframe tbody tr th:only-of-type {\n",
       "        vertical-align: middle;\n",
       "    }\n",
       "\n",
       "    .dataframe tbody tr th {\n",
       "        vertical-align: top;\n",
       "    }\n",
       "\n",
       "    .dataframe thead th {\n",
       "        text-align: right;\n",
       "    }\n",
       "</style>\n",
       "<table border=\"1\" class=\"dataframe\">\n",
       "  <thead>\n",
       "    <tr style=\"text-align: right;\">\n",
       "      <th></th>\n",
       "      <th>Day</th>\n",
       "      <th>Body_size_in_mm2</th>\n",
       "      <th>log body size</th>\n",
       "    </tr>\n",
       "  </thead>\n",
       "  <tbody>\n",
       "    <tr>\n",
       "      <th>F_0d_1</th>\n",
       "      <td>0</td>\n",
       "      <td>0.290889</td>\n",
       "      <td>-1.234815</td>\n",
       "    </tr>\n",
       "    <tr>\n",
       "      <th>F_0d_2</th>\n",
       "      <td>0</td>\n",
       "      <td>0.324355</td>\n",
       "      <td>-1.125918</td>\n",
       "    </tr>\n",
       "    <tr>\n",
       "      <th>F_0d_3</th>\n",
       "      <td>0</td>\n",
       "      <td>0.543924</td>\n",
       "      <td>-0.608946</td>\n",
       "    </tr>\n",
       "    <tr>\n",
       "      <th>F_0d_4</th>\n",
       "      <td>0</td>\n",
       "      <td>0.632486</td>\n",
       "      <td>-0.458096</td>\n",
       "    </tr>\n",
       "    <tr>\n",
       "      <th>F_0d_5</th>\n",
       "      <td>0</td>\n",
       "      <td>0.290277</td>\n",
       "      <td>-1.236921</td>\n",
       "    </tr>\n",
       "  </tbody>\n",
       "</table>\n",
       "</div>"
      ],
      "text/plain": [
       "        Day  Body_size_in_mm2   log body size\n",
       "F_0d_1    0           0.290889      -1.234815\n",
       "F_0d_2    0           0.324355      -1.125918\n",
       "F_0d_3    0           0.543924      -0.608946\n",
       "F_0d_4    0           0.632486      -0.458096\n",
       "F_0d_5    0           0.290277      -1.236921"
      ]
     },
     "execution_count": 4,
     "metadata": {},
     "output_type": "execute_result"
    }
   ],
   "source": [
    "#add column 'log body size' with the log transform\n",
    "log_body = np.log(df_gb.iloc[:, 1]).values\n",
    "log_body=log_body.tolist()\n",
    "df_gb['log body size'] = log_body\n",
    "df_gb.head()"
   ]
  },
  {
   "cell_type": "code",
   "execution_count": 5,
   "id": "c17e4ce6",
   "metadata": {
    "id": "c17e4ce6"
   },
   "outputs": [],
   "source": [
    "#store this dataset as a csv file for simple regression analysis of log body size with respect to day\n",
    "df_gb.to_csv('Data/body_size_growth_bgp.csv') "
   ]
  },
  {
   "cell_type": "code",
   "execution_count": 6,
   "id": "be556856",
   "metadata": {
    "id": "be556856",
    "outputId": "def90a56-f556-435d-d255-8a42f4d456af"
   },
   "outputs": [
    {
     "data": {
      "text/html": [
       "<div>\n",
       "<style scoped>\n",
       "    .dataframe tbody tr th:only-of-type {\n",
       "        vertical-align: middle;\n",
       "    }\n",
       "\n",
       "    .dataframe tbody tr th {\n",
       "        vertical-align: top;\n",
       "    }\n",
       "\n",
       "    .dataframe thead th {\n",
       "        text-align: right;\n",
       "    }\n",
       "</style>\n",
       "<table border=\"1\" class=\"dataframe\">\n",
       "  <thead>\n",
       "    <tr style=\"text-align: right;\">\n",
       "      <th></th>\n",
       "      <th>Day</th>\n",
       "      <th>Cell number</th>\n",
       "      <th>log cell number</th>\n",
       "    </tr>\n",
       "  </thead>\n",
       "  <tbody>\n",
       "    <tr>\n",
       "      <th>F_0d_1</th>\n",
       "      <td>0</td>\n",
       "      <td>37500.000000</td>\n",
       "      <td>10.532096</td>\n",
       "    </tr>\n",
       "    <tr>\n",
       "      <th>F_0d_3</th>\n",
       "      <td>0</td>\n",
       "      <td>84210.526316</td>\n",
       "      <td>11.341075</td>\n",
       "    </tr>\n",
       "    <tr>\n",
       "      <th>F_0d_5</th>\n",
       "      <td>0</td>\n",
       "      <td>31774.193548</td>\n",
       "      <td>10.366410</td>\n",
       "    </tr>\n",
       "    <tr>\n",
       "      <th>F_0d_7</th>\n",
       "      <td>0</td>\n",
       "      <td>75414.781297</td>\n",
       "      <td>11.230759</td>\n",
       "    </tr>\n",
       "    <tr>\n",
       "      <th>F_0d_10</th>\n",
       "      <td>0</td>\n",
       "      <td>88888.888889</td>\n",
       "      <td>11.395142</td>\n",
       "    </tr>\n",
       "  </tbody>\n",
       "</table>\n",
       "</div>"
      ],
      "text/plain": [
       "         Day   Cell number  log cell number\n",
       "F_0d_1     0  37500.000000        10.532096\n",
       "F_0d_3     0  84210.526316        11.341075\n",
       "F_0d_5     0  31774.193548        10.366410\n",
       "F_0d_7     0  75414.781297        11.230759\n",
       "F_0d_10    0  88888.888889        11.395142"
      ]
     },
     "execution_count": 6,
     "metadata": {},
     "output_type": "execute_result"
    }
   ],
   "source": [
    "#extract the data for cell number\n",
    "df=pd.read_excel('Data/Growth_Body size_cell size_cell number_cell cycle.xlsx', sheet_name='Cell number', index_col=0, engine='openpyxl') \n",
    "df_d=df[[\"Day\"]]\n",
    "df_1=df[[\"Cell number\"]]\n",
    "df_gn=pd.concat([df_d, df_1], axis=1)\n",
    "\n",
    "#add column 'log cell number' with the log transform\n",
    "log_cell_num = np.log(df_gn.iloc[:, 1]).values\n",
    "log_cell_num=log_cell_num.tolist()\n",
    "df_gn['log cell number'] = log_cell_num\n",
    "df_gn.head()"
   ]
  },
  {
   "cell_type": "code",
   "execution_count": 7,
   "id": "02a201b3",
   "metadata": {
    "id": "02a201b3",
    "outputId": "7aad0050-8215-40ef-9ceb-d9ad5bc2e423"
   },
   "outputs": [
    {
     "data": {
      "text/plain": [
       "106"
      ]
     },
     "execution_count": 7,
     "metadata": {},
     "output_type": "execute_result"
    }
   ],
   "source": [
    "len(df_gn.index)"
   ]
  },
  {
   "cell_type": "code",
   "execution_count": 8,
   "id": "355e377d",
   "metadata": {
    "id": "355e377d",
    "outputId": "5be41964-d9e1-41b0-eded-e8d560fcba4e"
   },
   "outputs": [
    {
     "data": {
      "text/html": [
       "<div>\n",
       "<style scoped>\n",
       "    .dataframe tbody tr th:only-of-type {\n",
       "        vertical-align: middle;\n",
       "    }\n",
       "\n",
       "    .dataframe tbody tr th {\n",
       "        vertical-align: top;\n",
       "    }\n",
       "\n",
       "    .dataframe thead th {\n",
       "        text-align: right;\n",
       "    }\n",
       "</style>\n",
       "<table border=\"1\" class=\"dataframe\">\n",
       "  <thead>\n",
       "    <tr style=\"text-align: right;\">\n",
       "      <th></th>\n",
       "      <th>Day</th>\n",
       "      <th>median</th>\n",
       "      <th>log cell size</th>\n",
       "    </tr>\n",
       "  </thead>\n",
       "  <tbody>\n",
       "    <tr>\n",
       "      <th>F_0d_1</th>\n",
       "      <td>0</td>\n",
       "      <td>50176</td>\n",
       "      <td>10.823292</td>\n",
       "    </tr>\n",
       "    <tr>\n",
       "      <th>F_0d_3</th>\n",
       "      <td>0</td>\n",
       "      <td>43072</td>\n",
       "      <td>10.670628</td>\n",
       "    </tr>\n",
       "    <tr>\n",
       "      <th>F_0d_5</th>\n",
       "      <td>0</td>\n",
       "      <td>38976</td>\n",
       "      <td>10.570701</td>\n",
       "    </tr>\n",
       "    <tr>\n",
       "      <th>F_0d_7</th>\n",
       "      <td>0</td>\n",
       "      <td>41152</td>\n",
       "      <td>10.625028</td>\n",
       "    </tr>\n",
       "    <tr>\n",
       "      <th>F_0d_10</th>\n",
       "      <td>0</td>\n",
       "      <td>34880</td>\n",
       "      <td>10.459669</td>\n",
       "    </tr>\n",
       "  </tbody>\n",
       "</table>\n",
       "</div>"
      ],
      "text/plain": [
       "         Day  median  log cell size\n",
       "F_0d_1     0   50176      10.823292\n",
       "F_0d_3     0   43072      10.670628\n",
       "F_0d_5     0   38976      10.570701\n",
       "F_0d_7     0   41152      10.625028\n",
       "F_0d_10    0   34880      10.459669"
      ]
     },
     "execution_count": 8,
     "metadata": {},
     "output_type": "execute_result"
    }
   ],
   "source": [
    "#extract the data for cell size\n",
    "df=pd.read_excel('Data/Growth_Body size_cell size_cell number_cell cycle.xlsx', sheet_name='Cell size', index_col=0, engine='openpyxl') \n",
    "df_day=df[[\"Day\"]]\n",
    "df_m=df[[\"median\"]]\n",
    "df_gc=pd.concat([df_day, df_m], axis=1)\n",
    "\n",
    "#add column 'log cell size' with the log transform\n",
    "log_cell_size = np.log(df_gc.iloc[:, 1]).values\n",
    "log_cell_size=log_cell_size.tolist()\n",
    "df_gc['log cell size'] = log_cell_size\n",
    "df_gc.head()"
   ]
  },
  {
   "cell_type": "code",
   "execution_count": 9,
   "id": "f0f287e0",
   "metadata": {
    "id": "f0f287e0",
    "outputId": "f222f329-ef0a-4633-c760-63847811197b"
   },
   "outputs": [
    {
     "data": {
      "text/plain": [
       "106"
      ]
     },
     "execution_count": 9,
     "metadata": {},
     "output_type": "execute_result"
    }
   ],
   "source": [
    "len(df_gc.index)"
   ]
  },
  {
   "cell_type": "code",
   "execution_count": 10,
   "id": "de431f96",
   "metadata": {
    "id": "de431f96",
    "outputId": "9668b0e3-a610-4073-b9aa-57f4c3838ea2"
   },
   "outputs": [
    {
     "data": {
      "text/plain": [
       "106"
      ]
     },
     "execution_count": 10,
     "metadata": {},
     "output_type": "execute_result"
    }
   ],
   "source": [
    "#merge data frames for body size, cell number and cell size by index\n",
    "#there are some indices in body size that do not appear in cell number nor size, these rows are removed\n",
    "df_future_csv=pd.merge(df_gb, df_gn, left_index=True, right_index=True)\n",
    "df_future_csv=pd.merge(df_future_csv, df_gc, left_index=True, right_index=True)\n",
    "\n",
    "#we check that the size of the new data frame is as we expected\n",
    "len(df_future_csv.index)"
   ]
  },
  {
   "cell_type": "code",
   "execution_count": 11,
   "id": "3d26a1d5",
   "metadata": {
    "id": "3d26a1d5",
    "outputId": "4d86eefd-f057-44ed-efe9-9ec4950c87b6",
    "scrolled": false
   },
   "outputs": [
    {
     "data": {
      "text/html": [
       "<div>\n",
       "<style scoped>\n",
       "    .dataframe tbody tr th:only-of-type {\n",
       "        vertical-align: middle;\n",
       "    }\n",
       "\n",
       "    .dataframe tbody tr th {\n",
       "        vertical-align: top;\n",
       "    }\n",
       "\n",
       "    .dataframe thead th {\n",
       "        text-align: right;\n",
       "    }\n",
       "</style>\n",
       "<table border=\"1\" class=\"dataframe\">\n",
       "  <thead>\n",
       "    <tr style=\"text-align: right;\">\n",
       "      <th></th>\n",
       "      <th>Day_x</th>\n",
       "      <th>Body_size_in_mm2</th>\n",
       "      <th>log body size</th>\n",
       "      <th>Day_y</th>\n",
       "      <th>Cell number</th>\n",
       "      <th>log cell number</th>\n",
       "      <th>Day</th>\n",
       "      <th>median</th>\n",
       "      <th>log cell size</th>\n",
       "    </tr>\n",
       "  </thead>\n",
       "  <tbody>\n",
       "    <tr>\n",
       "      <th>F_0d_1</th>\n",
       "      <td>0</td>\n",
       "      <td>0.290889</td>\n",
       "      <td>-1.234815</td>\n",
       "      <td>0</td>\n",
       "      <td>37500.000000</td>\n",
       "      <td>10.532096</td>\n",
       "      <td>0</td>\n",
       "      <td>50176</td>\n",
       "      <td>10.823292</td>\n",
       "    </tr>\n",
       "    <tr>\n",
       "      <th>F_0d_3</th>\n",
       "      <td>0</td>\n",
       "      <td>0.543924</td>\n",
       "      <td>-0.608946</td>\n",
       "      <td>0</td>\n",
       "      <td>84210.526316</td>\n",
       "      <td>11.341075</td>\n",
       "      <td>0</td>\n",
       "      <td>43072</td>\n",
       "      <td>10.670628</td>\n",
       "    </tr>\n",
       "    <tr>\n",
       "      <th>F_0d_5</th>\n",
       "      <td>0</td>\n",
       "      <td>0.290277</td>\n",
       "      <td>-1.236921</td>\n",
       "      <td>0</td>\n",
       "      <td>31774.193548</td>\n",
       "      <td>10.366410</td>\n",
       "      <td>0</td>\n",
       "      <td>38976</td>\n",
       "      <td>10.570701</td>\n",
       "    </tr>\n",
       "    <tr>\n",
       "      <th>F_0d_7</th>\n",
       "      <td>0</td>\n",
       "      <td>0.402102</td>\n",
       "      <td>-0.911050</td>\n",
       "      <td>0</td>\n",
       "      <td>75414.781297</td>\n",
       "      <td>11.230759</td>\n",
       "      <td>0</td>\n",
       "      <td>41152</td>\n",
       "      <td>10.625028</td>\n",
       "    </tr>\n",
       "    <tr>\n",
       "      <th>F_0d_10</th>\n",
       "      <td>0</td>\n",
       "      <td>0.434854</td>\n",
       "      <td>-0.832746</td>\n",
       "      <td>0</td>\n",
       "      <td>88888.888889</td>\n",
       "      <td>11.395142</td>\n",
       "      <td>0</td>\n",
       "      <td>34880</td>\n",
       "      <td>10.459669</td>\n",
       "    </tr>\n",
       "  </tbody>\n",
       "</table>\n",
       "</div>"
      ],
      "text/plain": [
       "         Day_x  Body_size_in_mm2   log body size  Day_y   Cell number  \\\n",
       "F_0d_1       0           0.290889      -1.234815      0  37500.000000   \n",
       "F_0d_3       0           0.543924      -0.608946      0  84210.526316   \n",
       "F_0d_5       0           0.290277      -1.236921      0  31774.193548   \n",
       "F_0d_7       0           0.402102      -0.911050      0  75414.781297   \n",
       "F_0d_10      0           0.434854      -0.832746      0  88888.888889   \n",
       "\n",
       "         log cell number  Day  median  log cell size  \n",
       "F_0d_1         10.532096    0   50176      10.823292  \n",
       "F_0d_3         11.341075    0   43072      10.670628  \n",
       "F_0d_5         10.366410    0   38976      10.570701  \n",
       "F_0d_7         11.230759    0   41152      10.625028  \n",
       "F_0d_10        11.395142    0   34880      10.459669  "
      ]
     },
     "execution_count": 11,
     "metadata": {},
     "output_type": "execute_result"
    }
   ],
   "source": [
    "# we check how the new data frame looks\n",
    "df_future_csv.head()"
   ]
  },
  {
   "cell_type": "code",
   "execution_count": 12,
   "id": "7c09e495",
   "metadata": {
    "id": "7c09e495"
   },
   "outputs": [],
   "source": [
    "# we transform the data into a csv file to do regression analysis for log cell number and log cell size\n",
    "#with respect to day, and for finding correlations between log cell number and size and log body size\n",
    "df_future_csv.to_csv('Data/nematostella_growth_bgp.csv')"
   ]
  },
  {
   "cell_type": "markdown",
   "id": "ec02dbd6",
   "metadata": {
    "id": "ec02dbd6"
   },
   "source": [
    "# 2. Data preparation for starvation intervals"
   ]
  },
  {
   "cell_type": "markdown",
   "id": "9b708bdc",
   "metadata": {
    "id": "9b708bdc"
   },
   "source": [
    "As for the case above for feeding, we merge the datasets for body size, cell number and cell size during the starvation period between day 0 and day 21. \n",
    "There is one extra data point for body size for a single individual whose cell number and cell size were not measured, so we remove that point. We also create new columns for the logarithmic transformation in base e of the measurements of body size, cell number and cell size. The format of the final dataset is in .csv."
   ]
  },
  {
   "cell_type": "code",
   "execution_count": 13,
   "id": "19b8eb57",
   "metadata": {
    "colab": {
     "base_uri": "https://localhost:8080/",
     "height": 235
    },
    "executionInfo": {
     "elapsed": 37,
     "status": "error",
     "timestamp": 1684170178044,
     "user": {
      "displayName": "Belén García Pascual",
      "userId": "13343535263540880083"
     },
     "user_tz": -120
    },
    "id": "19b8eb57",
    "outputId": "2ac519a9-992a-420b-9605-dce997764fab"
   },
   "outputs": [
    {
     "data": {
      "text/html": [
       "<div>\n",
       "<style scoped>\n",
       "    .dataframe tbody tr th:only-of-type {\n",
       "        vertical-align: middle;\n",
       "    }\n",
       "\n",
       "    .dataframe tbody tr th {\n",
       "        vertical-align: top;\n",
       "    }\n",
       "\n",
       "    .dataframe thead th {\n",
       "        text-align: right;\n",
       "    }\n",
       "</style>\n",
       "<table border=\"1\" class=\"dataframe\">\n",
       "  <thead>\n",
       "    <tr style=\"text-align: right;\">\n",
       "      <th></th>\n",
       "      <th>Day</th>\n",
       "      <th>Body_size_in_mm2</th>\n",
       "      <th>body size log</th>\n",
       "    </tr>\n",
       "  </thead>\n",
       "  <tbody>\n",
       "    <tr>\n",
       "      <th>S_0d_1</th>\n",
       "      <td>0</td>\n",
       "      <td>3.724482</td>\n",
       "      <td>1.314928</td>\n",
       "    </tr>\n",
       "    <tr>\n",
       "      <th>S_0d_2</th>\n",
       "      <td>0</td>\n",
       "      <td>5.997642</td>\n",
       "      <td>1.791366</td>\n",
       "    </tr>\n",
       "    <tr>\n",
       "      <th>S_0d_3</th>\n",
       "      <td>0</td>\n",
       "      <td>2.923042</td>\n",
       "      <td>1.072625</td>\n",
       "    </tr>\n",
       "    <tr>\n",
       "      <th>S_0d_4</th>\n",
       "      <td>0</td>\n",
       "      <td>3.030744</td>\n",
       "      <td>1.108808</td>\n",
       "    </tr>\n",
       "    <tr>\n",
       "      <th>S_0d_5</th>\n",
       "      <td>0</td>\n",
       "      <td>3.125799</td>\n",
       "      <td>1.139690</td>\n",
       "    </tr>\n",
       "  </tbody>\n",
       "</table>\n",
       "</div>"
      ],
      "text/plain": [
       "        Day  Body_size_in_mm2  body size log\n",
       "S_0d_1    0          3.724482       1.314928\n",
       "S_0d_2    0          5.997642       1.791366\n",
       "S_0d_3    0          2.923042       1.072625\n",
       "S_0d_4    0          3.030744       1.108808\n",
       "S_0d_5    0          3.125799       1.139690"
      ]
     },
     "execution_count": 13,
     "metadata": {},
     "output_type": "execute_result"
    }
   ],
   "source": [
    "df=pd.read_excel('Data/Degrowth_body size_cell size_cell number_cell cycle.xlsx', sheet_name='Body size', index_col=0, engine='openpyxl')\n",
    "df_d=df[[\"Day\"]]\n",
    "df_b=df[[\"Body_size_in_mm2\"]]\n",
    "df_db=pd.concat([df_d, df_b], axis=1)\n",
    "\n",
    "log_body = np.log(df_db.iloc[:, 1]).values\n",
    "log_body=log_body.tolist()\n",
    "df_db['body size log'] = log_body\n",
    "df_db.head()"
   ]
  },
  {
   "cell_type": "code",
   "execution_count": 14,
   "id": "ac5bbde2",
   "metadata": {
    "id": "ac5bbde2",
    "outputId": "34f2b336-15f6-4bff-cb1d-ec459dd08a76"
   },
   "outputs": [
    {
     "data": {
      "text/plain": [
       "141"
      ]
     },
     "execution_count": 14,
     "metadata": {},
     "output_type": "execute_result"
    }
   ],
   "source": [
    "len(df_db.index)"
   ]
  },
  {
   "cell_type": "code",
   "execution_count": 15,
   "id": "19f0f57a",
   "metadata": {
    "id": "19f0f57a",
    "outputId": "7d2bb418-73ae-4600-eee0-0bcd4556bdeb"
   },
   "outputs": [
    {
     "data": {
      "text/plain": [
       "142"
      ]
     },
     "execution_count": 15,
     "metadata": {},
     "output_type": "execute_result"
    }
   ],
   "source": [
    "df=pd.read_excel('Data/Degrowth_body size_cell size_cell number_cell cycle.xlsx', sheet_name='Cell number', index_col=0, engine='openpyxl')\n",
    "df_d=df[[\"Day\"]]\n",
    "df_1=df[[\"cell number\"]]\n",
    "df_dn=pd.concat([df_d, df_1], axis=1)\n",
    "\n",
    "log_cell_number= np.log(df_dn.iloc[:, 1]).values\n",
    "log_cell_number=log_cell_number.tolist()\n",
    "df_dn['cell number log'] = log_cell_number\n",
    "\n",
    "len(df_dn.index)"
   ]
  },
  {
   "cell_type": "code",
   "execution_count": 16,
   "id": "54541472",
   "metadata": {
    "id": "54541472",
    "outputId": "74bf37d6-3661-4da7-823a-03dd11cf5b81"
   },
   "outputs": [
    {
     "data": {
      "text/html": [
       "<div>\n",
       "<style scoped>\n",
       "    .dataframe tbody tr th:only-of-type {\n",
       "        vertical-align: middle;\n",
       "    }\n",
       "\n",
       "    .dataframe tbody tr th {\n",
       "        vertical-align: top;\n",
       "    }\n",
       "\n",
       "    .dataframe thead th {\n",
       "        text-align: right;\n",
       "    }\n",
       "</style>\n",
       "<table border=\"1\" class=\"dataframe\">\n",
       "  <thead>\n",
       "    <tr style=\"text-align: right;\">\n",
       "      <th></th>\n",
       "      <th>Day</th>\n",
       "      <th>median</th>\n",
       "      <th>cell size log</th>\n",
       "    </tr>\n",
       "  </thead>\n",
       "  <tbody>\n",
       "    <tr>\n",
       "      <th>S_0d_1</th>\n",
       "      <td>0</td>\n",
       "      <td>63680</td>\n",
       "      <td>11.061626</td>\n",
       "    </tr>\n",
       "    <tr>\n",
       "      <th>S_0d_2</th>\n",
       "      <td>0</td>\n",
       "      <td>65280</td>\n",
       "      <td>11.086441</td>\n",
       "    </tr>\n",
       "    <tr>\n",
       "      <th>S_0d_3</th>\n",
       "      <td>0</td>\n",
       "      <td>63488</td>\n",
       "      <td>11.058606</td>\n",
       "    </tr>\n",
       "    <tr>\n",
       "      <th>S_0d_4</th>\n",
       "      <td>0</td>\n",
       "      <td>55936</td>\n",
       "      <td>10.931963</td>\n",
       "    </tr>\n",
       "    <tr>\n",
       "      <th>S_0d_5</th>\n",
       "      <td>0</td>\n",
       "      <td>60288</td>\n",
       "      <td>11.006888</td>\n",
       "    </tr>\n",
       "  </tbody>\n",
       "</table>\n",
       "</div>"
      ],
      "text/plain": [
       "        Day  median  cell size log\n",
       "S_0d_1    0   63680      11.061626\n",
       "S_0d_2    0   65280      11.086441\n",
       "S_0d_3    0   63488      11.058606\n",
       "S_0d_4    0   55936      10.931963\n",
       "S_0d_5    0   60288      11.006888"
      ]
     },
     "execution_count": 16,
     "metadata": {},
     "output_type": "execute_result"
    }
   ],
   "source": [
    "df=pd.read_excel('Data/Degrowth_body size_cell size_cell number_cell cycle.xlsx', sheet_name='Cell size', index_col=0, engine='openpyxl')\n",
    "df_d=df_day=df[[\"Day\"]]\n",
    "df_m=df[[\"median\"]]\n",
    "df_dc=pd.concat([df_day, df_m], axis=1)\n",
    "\n",
    "log_cell_size = np.log(df_dc.iloc[:, 1]).values\n",
    "log_cell_size=log_cell_size.tolist()\n",
    "df_dc['cell size log'] = log_cell_size\n",
    "df_dc.head()"
   ]
  },
  {
   "cell_type": "code",
   "execution_count": 17,
   "id": "4b0f4331",
   "metadata": {
    "id": "4b0f4331",
    "outputId": "313c0c9a-bfc9-407f-ff06-7a425192afba"
   },
   "outputs": [
    {
     "data": {
      "text/plain": [
       "142"
      ]
     },
     "execution_count": 17,
     "metadata": {},
     "output_type": "execute_result"
    }
   ],
   "source": [
    "len(df_dc.index)"
   ]
  },
  {
   "cell_type": "code",
   "execution_count": 18,
   "id": "4225c027",
   "metadata": {
    "id": "4225c027",
    "outputId": "716ea20c-9636-4388-da15-abe37854904e"
   },
   "outputs": [
    {
     "data": {
      "text/plain": [
       "141"
      ]
     },
     "execution_count": 18,
     "metadata": {},
     "output_type": "execute_result"
    }
   ],
   "source": [
    "df_future_csv=pd.merge(df_db, df_dn, left_index=True, right_index=True)\n",
    "df_future_csv=pd.merge(df_future_csv, df_dc, left_index=True, right_index=True)\n",
    "len(df_future_csv.index)"
   ]
  },
  {
   "cell_type": "code",
   "execution_count": 19,
   "id": "c202bd75",
   "metadata": {
    "id": "c202bd75"
   },
   "outputs": [],
   "source": [
    "df_future_csv.rename(columns={\"body size log\": \"log body size\", \"cell number log\": \"log cell number\",\n",
    "                             \"cell size log\":\"log cell size\"}, inplace = True)"
   ]
  },
  {
   "cell_type": "code",
   "execution_count": 20,
   "id": "ef992379",
   "metadata": {
    "id": "ef992379",
    "outputId": "44558e61-3e5c-4549-9ee4-4eb44461acfa",
    "scrolled": true
   },
   "outputs": [
    {
     "data": {
      "text/html": [
       "<div>\n",
       "<style scoped>\n",
       "    .dataframe tbody tr th:only-of-type {\n",
       "        vertical-align: middle;\n",
       "    }\n",
       "\n",
       "    .dataframe tbody tr th {\n",
       "        vertical-align: top;\n",
       "    }\n",
       "\n",
       "    .dataframe thead th {\n",
       "        text-align: right;\n",
       "    }\n",
       "</style>\n",
       "<table border=\"1\" class=\"dataframe\">\n",
       "  <thead>\n",
       "    <tr style=\"text-align: right;\">\n",
       "      <th></th>\n",
       "      <th>Day_x</th>\n",
       "      <th>Body_size_in_mm2</th>\n",
       "      <th>log body size</th>\n",
       "      <th>Day_y</th>\n",
       "      <th>cell number</th>\n",
       "      <th>log cell number</th>\n",
       "      <th>Day</th>\n",
       "      <th>median</th>\n",
       "      <th>log cell size</th>\n",
       "    </tr>\n",
       "  </thead>\n",
       "  <tbody>\n",
       "    <tr>\n",
       "      <th>S_0d_1</th>\n",
       "      <td>0</td>\n",
       "      <td>3.724482</td>\n",
       "      <td>1.314928</td>\n",
       "      <td>0</td>\n",
       "      <td>1.193939e+06</td>\n",
       "      <td>13.992769</td>\n",
       "      <td>0</td>\n",
       "      <td>63680</td>\n",
       "      <td>11.061626</td>\n",
       "    </tr>\n",
       "    <tr>\n",
       "      <th>S_0d_2</th>\n",
       "      <td>0</td>\n",
       "      <td>5.997642</td>\n",
       "      <td>1.791366</td>\n",
       "      <td>0</td>\n",
       "      <td>1.657906e+06</td>\n",
       "      <td>14.321066</td>\n",
       "      <td>0</td>\n",
       "      <td>65280</td>\n",
       "      <td>11.086441</td>\n",
       "    </tr>\n",
       "    <tr>\n",
       "      <th>S_0d_3</th>\n",
       "      <td>0</td>\n",
       "      <td>2.923042</td>\n",
       "      <td>1.072625</td>\n",
       "      <td>0</td>\n",
       "      <td>7.656042e+05</td>\n",
       "      <td>13.548421</td>\n",
       "      <td>0</td>\n",
       "      <td>63488</td>\n",
       "      <td>11.058606</td>\n",
       "    </tr>\n",
       "    <tr>\n",
       "      <th>S_0d_4</th>\n",
       "      <td>0</td>\n",
       "      <td>3.030744</td>\n",
       "      <td>1.108808</td>\n",
       "      <td>0</td>\n",
       "      <td>3.237898e+05</td>\n",
       "      <td>12.687850</td>\n",
       "      <td>0</td>\n",
       "      <td>55936</td>\n",
       "      <td>10.931963</td>\n",
       "    </tr>\n",
       "    <tr>\n",
       "      <th>S_0d_5</th>\n",
       "      <td>0</td>\n",
       "      <td>3.125799</td>\n",
       "      <td>1.139690</td>\n",
       "      <td>0</td>\n",
       "      <td>5.772662e+05</td>\n",
       "      <td>13.266059</td>\n",
       "      <td>0</td>\n",
       "      <td>60288</td>\n",
       "      <td>11.006888</td>\n",
       "    </tr>\n",
       "  </tbody>\n",
       "</table>\n",
       "</div>"
      ],
      "text/plain": [
       "        Day_x  Body_size_in_mm2  log body size  Day_y   cell number  \\\n",
       "S_0d_1      0          3.724482       1.314928      0  1.193939e+06   \n",
       "S_0d_2      0          5.997642       1.791366      0  1.657906e+06   \n",
       "S_0d_3      0          2.923042       1.072625      0  7.656042e+05   \n",
       "S_0d_4      0          3.030744       1.108808      0  3.237898e+05   \n",
       "S_0d_5      0          3.125799       1.139690      0  5.772662e+05   \n",
       "\n",
       "        log cell number  Day  median  log cell size  \n",
       "S_0d_1        13.992769    0   63680      11.061626  \n",
       "S_0d_2        14.321066    0   65280      11.086441  \n",
       "S_0d_3        13.548421    0   63488      11.058606  \n",
       "S_0d_4        12.687850    0   55936      10.931963  \n",
       "S_0d_5        13.266059    0   60288      11.006888  "
      ]
     },
     "execution_count": 20,
     "metadata": {},
     "output_type": "execute_result"
    }
   ],
   "source": [
    "df_future_csv.head()"
   ]
  },
  {
   "cell_type": "code",
   "execution_count": 21,
   "id": "dd79f702",
   "metadata": {
    "id": "dd79f702",
    "outputId": "a4f4173a-b0c3-4c7a-c0e4-3c084e0df50e"
   },
   "outputs": [
    {
     "data": {
      "text/html": [
       "<div>\n",
       "<style scoped>\n",
       "    .dataframe tbody tr th:only-of-type {\n",
       "        vertical-align: middle;\n",
       "    }\n",
       "\n",
       "    .dataframe tbody tr th {\n",
       "        vertical-align: top;\n",
       "    }\n",
       "\n",
       "    .dataframe thead th {\n",
       "        text-align: right;\n",
       "    }\n",
       "</style>\n",
       "<table border=\"1\" class=\"dataframe\">\n",
       "  <thead>\n",
       "    <tr style=\"text-align: right;\">\n",
       "      <th></th>\n",
       "      <th>Body_size_in_mm2</th>\n",
       "      <th>log body size</th>\n",
       "      <th>cell number</th>\n",
       "      <th>log cell number</th>\n",
       "      <th>Day</th>\n",
       "      <th>median</th>\n",
       "      <th>log cell size</th>\n",
       "    </tr>\n",
       "  </thead>\n",
       "  <tbody>\n",
       "    <tr>\n",
       "      <th>S_0d_1</th>\n",
       "      <td>3.724482</td>\n",
       "      <td>1.314928</td>\n",
       "      <td>1.193939e+06</td>\n",
       "      <td>13.992769</td>\n",
       "      <td>0</td>\n",
       "      <td>63680</td>\n",
       "      <td>11.061626</td>\n",
       "    </tr>\n",
       "    <tr>\n",
       "      <th>S_0d_2</th>\n",
       "      <td>5.997642</td>\n",
       "      <td>1.791366</td>\n",
       "      <td>1.657906e+06</td>\n",
       "      <td>14.321066</td>\n",
       "      <td>0</td>\n",
       "      <td>65280</td>\n",
       "      <td>11.086441</td>\n",
       "    </tr>\n",
       "    <tr>\n",
       "      <th>S_0d_3</th>\n",
       "      <td>2.923042</td>\n",
       "      <td>1.072625</td>\n",
       "      <td>7.656042e+05</td>\n",
       "      <td>13.548421</td>\n",
       "      <td>0</td>\n",
       "      <td>63488</td>\n",
       "      <td>11.058606</td>\n",
       "    </tr>\n",
       "    <tr>\n",
       "      <th>S_0d_4</th>\n",
       "      <td>3.030744</td>\n",
       "      <td>1.108808</td>\n",
       "      <td>3.237898e+05</td>\n",
       "      <td>12.687850</td>\n",
       "      <td>0</td>\n",
       "      <td>55936</td>\n",
       "      <td>10.931963</td>\n",
       "    </tr>\n",
       "    <tr>\n",
       "      <th>S_0d_5</th>\n",
       "      <td>3.125799</td>\n",
       "      <td>1.139690</td>\n",
       "      <td>5.772662e+05</td>\n",
       "      <td>13.266059</td>\n",
       "      <td>0</td>\n",
       "      <td>60288</td>\n",
       "      <td>11.006888</td>\n",
       "    </tr>\n",
       "    <tr>\n",
       "      <th>...</th>\n",
       "      <td>...</td>\n",
       "      <td>...</td>\n",
       "      <td>...</td>\n",
       "      <td>...</td>\n",
       "      <td>...</td>\n",
       "      <td>...</td>\n",
       "      <td>...</td>\n",
       "    </tr>\n",
       "    <tr>\n",
       "      <th>S_21d_20</th>\n",
       "      <td>4.528471</td>\n",
       "      <td>1.510384</td>\n",
       "      <td>1.672907e+05</td>\n",
       "      <td>12.027489</td>\n",
       "      <td>21</td>\n",
       "      <td>36032</td>\n",
       "      <td>10.492163</td>\n",
       "    </tr>\n",
       "    <tr>\n",
       "      <th>S_21d_21</th>\n",
       "      <td>4.025761</td>\n",
       "      <td>1.392714</td>\n",
       "      <td>9.070227e+04</td>\n",
       "      <td>11.415338</td>\n",
       "      <td>21</td>\n",
       "      <td>40896</td>\n",
       "      <td>10.618788</td>\n",
       "    </tr>\n",
       "    <tr>\n",
       "      <th>S_21d_22</th>\n",
       "      <td>6.354098</td>\n",
       "      <td>1.849100</td>\n",
       "      <td>9.088571e+05</td>\n",
       "      <td>13.719943</td>\n",
       "      <td>21</td>\n",
       "      <td>41024</td>\n",
       "      <td>10.621913</td>\n",
       "    </tr>\n",
       "    <tr>\n",
       "      <th>S_21d_23</th>\n",
       "      <td>3.346710</td>\n",
       "      <td>1.207978</td>\n",
       "      <td>3.341501e+05</td>\n",
       "      <td>12.719346</td>\n",
       "      <td>21</td>\n",
       "      <td>44096</td>\n",
       "      <td>10.694124</td>\n",
       "    </tr>\n",
       "    <tr>\n",
       "      <th>S_21d_24</th>\n",
       "      <td>4.507053</td>\n",
       "      <td>1.505644</td>\n",
       "      <td>6.820375e+05</td>\n",
       "      <td>13.432840</td>\n",
       "      <td>21</td>\n",
       "      <td>46848</td>\n",
       "      <td>10.754664</td>\n",
       "    </tr>\n",
       "  </tbody>\n",
       "</table>\n",
       "<p>141 rows × 7 columns</p>\n",
       "</div>"
      ],
      "text/plain": [
       "          Body_size_in_mm2  log body size   cell number  log cell number  Day  \\\n",
       "S_0d_1            3.724482       1.314928  1.193939e+06        13.992769    0   \n",
       "S_0d_2            5.997642       1.791366  1.657906e+06        14.321066    0   \n",
       "S_0d_3            2.923042       1.072625  7.656042e+05        13.548421    0   \n",
       "S_0d_4            3.030744       1.108808  3.237898e+05        12.687850    0   \n",
       "S_0d_5            3.125799       1.139690  5.772662e+05        13.266059    0   \n",
       "...                    ...            ...           ...              ...  ...   \n",
       "S_21d_20          4.528471       1.510384  1.672907e+05        12.027489   21   \n",
       "S_21d_21          4.025761       1.392714  9.070227e+04        11.415338   21   \n",
       "S_21d_22          6.354098       1.849100  9.088571e+05        13.719943   21   \n",
       "S_21d_23          3.346710       1.207978  3.341501e+05        12.719346   21   \n",
       "S_21d_24          4.507053       1.505644  6.820375e+05        13.432840   21   \n",
       "\n",
       "          median  log cell size  \n",
       "S_0d_1     63680      11.061626  \n",
       "S_0d_2     65280      11.086441  \n",
       "S_0d_3     63488      11.058606  \n",
       "S_0d_4     55936      10.931963  \n",
       "S_0d_5     60288      11.006888  \n",
       "...          ...            ...  \n",
       "S_21d_20   36032      10.492163  \n",
       "S_21d_21   40896      10.618788  \n",
       "S_21d_22   41024      10.621913  \n",
       "S_21d_23   44096      10.694124  \n",
       "S_21d_24   46848      10.754664  \n",
       "\n",
       "[141 rows x 7 columns]"
      ]
     },
     "execution_count": 21,
     "metadata": {},
     "output_type": "execute_result"
    }
   ],
   "source": [
    "df_future_csv.drop(columns=[\"Day_y\", \"Day_x\"])"
   ]
  },
  {
   "cell_type": "code",
   "execution_count": 22,
   "id": "81828998",
   "metadata": {
    "id": "81828998"
   },
   "outputs": [],
   "source": [
    "df_future_csv.to_csv('Data/nematostella_degrowth_bgp.csv')"
   ]
  },
  {
   "cell_type": "markdown",
   "id": "7eaf33c4",
   "metadata": {
    "id": "7eaf33c4"
   },
   "source": [
    "# 3. Merging of all body size data for growth intervals"
   ]
  },
  {
   "cell_type": "markdown",
   "id": "68d58099",
   "metadata": {
    "id": "68d58099"
   },
   "source": [
    "We put together:\n",
    "\n",
    "    1. Body size for feeding 0-10d\n",
    "    2. Body size for refeeding 170d\n",
    "    3. Body size for refeeding 200d\n",
    "    4. Body size for growth in starvation 0-21\n",
    "        4.1 Either this growth is from day 0 to day 1\n",
    "        4.2 or from day 0 to day 2. We create two datasets for each choice."
   ]
  },
  {
   "cell_type": "code",
   "execution_count": 23,
   "id": "bbbc2d11",
   "metadata": {
    "id": "bbbc2d11",
    "outputId": "8f211daf-45c1-4907-b068-e5a5340e4f09"
   },
   "outputs": [
    {
     "data": {
      "text/html": [
       "<div>\n",
       "<style scoped>\n",
       "    .dataframe tbody tr th:only-of-type {\n",
       "        vertical-align: middle;\n",
       "    }\n",
       "\n",
       "    .dataframe tbody tr th {\n",
       "        vertical-align: top;\n",
       "    }\n",
       "\n",
       "    .dataframe thead th {\n",
       "        text-align: right;\n",
       "    }\n",
       "</style>\n",
       "<table border=\"1\" class=\"dataframe\">\n",
       "  <thead>\n",
       "    <tr style=\"text-align: right;\">\n",
       "      <th></th>\n",
       "      <th>Day</th>\n",
       "      <th>Body_size_in_mm2</th>\n",
       "      <th>log body size</th>\n",
       "    </tr>\n",
       "  </thead>\n",
       "  <tbody>\n",
       "    <tr>\n",
       "      <th>F_0d_1</th>\n",
       "      <td>0</td>\n",
       "      <td>0.290889</td>\n",
       "      <td>-1.234815</td>\n",
       "    </tr>\n",
       "    <tr>\n",
       "      <th>F_0d_2</th>\n",
       "      <td>0</td>\n",
       "      <td>0.324355</td>\n",
       "      <td>-1.125918</td>\n",
       "    </tr>\n",
       "    <tr>\n",
       "      <th>F_0d_3</th>\n",
       "      <td>0</td>\n",
       "      <td>0.543924</td>\n",
       "      <td>-0.608946</td>\n",
       "    </tr>\n",
       "    <tr>\n",
       "      <th>F_0d_4</th>\n",
       "      <td>0</td>\n",
       "      <td>0.632486</td>\n",
       "      <td>-0.458096</td>\n",
       "    </tr>\n",
       "    <tr>\n",
       "      <th>F_0d_5</th>\n",
       "      <td>0</td>\n",
       "      <td>0.290277</td>\n",
       "      <td>-1.236921</td>\n",
       "    </tr>\n",
       "  </tbody>\n",
       "</table>\n",
       "</div>"
      ],
      "text/plain": [
       "        Day  Body_size_in_mm2   log body size\n",
       "F_0d_1    0           0.290889      -1.234815\n",
       "F_0d_2    0           0.324355      -1.125918\n",
       "F_0d_3    0           0.543924      -0.608946\n",
       "F_0d_4    0           0.632486      -0.458096\n",
       "F_0d_5    0           0.290277      -1.236921"
      ]
     },
     "execution_count": 23,
     "metadata": {},
     "output_type": "execute_result"
    }
   ],
   "source": [
    "df_1=pd.read_csv('Data/body_size_growth_bgp.csv', index_col=0) \n",
    "df_1.head()"
   ]
  },
  {
   "cell_type": "code",
   "execution_count": 24,
   "id": "45e7dbea",
   "metadata": {
    "id": "45e7dbea",
    "outputId": "85a5c8b3-fa09-4ff5-b25b-e8661ef84c34"
   },
   "outputs": [
    {
     "data": {
      "text/html": [
       "<div>\n",
       "<style scoped>\n",
       "    .dataframe tbody tr th:only-of-type {\n",
       "        vertical-align: middle;\n",
       "    }\n",
       "\n",
       "    .dataframe tbody tr th {\n",
       "        vertical-align: top;\n",
       "    }\n",
       "\n",
       "    .dataframe thead th {\n",
       "        text-align: right;\n",
       "    }\n",
       "</style>\n",
       "<table border=\"1\" class=\"dataframe\">\n",
       "  <thead>\n",
       "    <tr style=\"text-align: right;\">\n",
       "      <th></th>\n",
       "      <th>Day_x</th>\n",
       "      <th>Body_size_in_mm2</th>\n",
       "      <th>log body size</th>\n",
       "      <th>Day_y</th>\n",
       "      <th>cell number</th>\n",
       "      <th>log cell number</th>\n",
       "      <th>Day</th>\n",
       "      <th>median</th>\n",
       "      <th>log cell size</th>\n",
       "    </tr>\n",
       "  </thead>\n",
       "  <tbody>\n",
       "    <tr>\n",
       "      <th>S_0d_1</th>\n",
       "      <td>0</td>\n",
       "      <td>3.724482</td>\n",
       "      <td>1.314928</td>\n",
       "      <td>0</td>\n",
       "      <td>1.193939e+06</td>\n",
       "      <td>13.992769</td>\n",
       "      <td>0</td>\n",
       "      <td>63680</td>\n",
       "      <td>11.061626</td>\n",
       "    </tr>\n",
       "    <tr>\n",
       "      <th>S_0d_2</th>\n",
       "      <td>0</td>\n",
       "      <td>5.997642</td>\n",
       "      <td>1.791366</td>\n",
       "      <td>0</td>\n",
       "      <td>1.657906e+06</td>\n",
       "      <td>14.321066</td>\n",
       "      <td>0</td>\n",
       "      <td>65280</td>\n",
       "      <td>11.086441</td>\n",
       "    </tr>\n",
       "    <tr>\n",
       "      <th>S_0d_3</th>\n",
       "      <td>0</td>\n",
       "      <td>2.923042</td>\n",
       "      <td>1.072625</td>\n",
       "      <td>0</td>\n",
       "      <td>7.656042e+05</td>\n",
       "      <td>13.548421</td>\n",
       "      <td>0</td>\n",
       "      <td>63488</td>\n",
       "      <td>11.058606</td>\n",
       "    </tr>\n",
       "    <tr>\n",
       "      <th>S_0d_4</th>\n",
       "      <td>0</td>\n",
       "      <td>3.030744</td>\n",
       "      <td>1.108808</td>\n",
       "      <td>0</td>\n",
       "      <td>3.237898e+05</td>\n",
       "      <td>12.687850</td>\n",
       "      <td>0</td>\n",
       "      <td>55936</td>\n",
       "      <td>10.931963</td>\n",
       "    </tr>\n",
       "    <tr>\n",
       "      <th>S_0d_5</th>\n",
       "      <td>0</td>\n",
       "      <td>3.125799</td>\n",
       "      <td>1.139690</td>\n",
       "      <td>0</td>\n",
       "      <td>5.772662e+05</td>\n",
       "      <td>13.266059</td>\n",
       "      <td>0</td>\n",
       "      <td>60288</td>\n",
       "      <td>11.006888</td>\n",
       "    </tr>\n",
       "  </tbody>\n",
       "</table>\n",
       "</div>"
      ],
      "text/plain": [
       "        Day_x  Body_size_in_mm2  log body size  Day_y   cell number  \\\n",
       "S_0d_1      0          3.724482       1.314928      0  1.193939e+06   \n",
       "S_0d_2      0          5.997642       1.791366      0  1.657906e+06   \n",
       "S_0d_3      0          2.923042       1.072625      0  7.656042e+05   \n",
       "S_0d_4      0          3.030744       1.108808      0  3.237898e+05   \n",
       "S_0d_5      0          3.125799       1.139690      0  5.772662e+05   \n",
       "\n",
       "        log cell number  Day  median  log cell size  \n",
       "S_0d_1        13.992769    0   63680      11.061626  \n",
       "S_0d_2        14.321066    0   65280      11.086441  \n",
       "S_0d_3        13.548421    0   63488      11.058606  \n",
       "S_0d_4        12.687850    0   55936      10.931963  \n",
       "S_0d_5        13.266059    0   60288      11.006888  "
      ]
     },
     "execution_count": 24,
     "metadata": {},
     "output_type": "execute_result"
    }
   ],
   "source": [
    "df_2=pd.read_csv('Data/treatment_170d.csv', index_col=0)\n",
    "df_3=pd.read_csv('Data/treatment_200d.csv', index_col=0) \n",
    "df_4=pd.read_csv('Data/nematostella_degrowth_bgp.csv', index_col=0)\n",
    "df_4.head()"
   ]
  },
  {
   "cell_type": "code",
   "execution_count": 25,
   "id": "bed087a9",
   "metadata": {
    "id": "bed087a9",
    "outputId": "f65a12c4-bd3e-42b1-d152-1934a9118734"
   },
   "outputs": [
    {
     "data": {
      "text/html": [
       "<div>\n",
       "<style scoped>\n",
       "    .dataframe tbody tr th:only-of-type {\n",
       "        vertical-align: middle;\n",
       "    }\n",
       "\n",
       "    .dataframe tbody tr th {\n",
       "        vertical-align: top;\n",
       "    }\n",
       "\n",
       "    .dataframe thead th {\n",
       "        text-align: right;\n",
       "    }\n",
       "</style>\n",
       "<table border=\"1\" class=\"dataframe\">\n",
       "  <thead>\n",
       "    <tr style=\"text-align: right;\">\n",
       "      <th></th>\n",
       "      <th>Day</th>\n",
       "      <th>log body size</th>\n",
       "    </tr>\n",
       "  </thead>\n",
       "  <tbody>\n",
       "    <tr>\n",
       "      <th>F_0d_1</th>\n",
       "      <td>0</td>\n",
       "      <td>-1.234815</td>\n",
       "    </tr>\n",
       "    <tr>\n",
       "      <th>F_0d_2</th>\n",
       "      <td>0</td>\n",
       "      <td>-1.125918</td>\n",
       "    </tr>\n",
       "    <tr>\n",
       "      <th>F_0d_3</th>\n",
       "      <td>0</td>\n",
       "      <td>-0.608946</td>\n",
       "    </tr>\n",
       "    <tr>\n",
       "      <th>F_0d_4</th>\n",
       "      <td>0</td>\n",
       "      <td>-0.458096</td>\n",
       "    </tr>\n",
       "    <tr>\n",
       "      <th>F_0d_5</th>\n",
       "      <td>0</td>\n",
       "      <td>-1.236921</td>\n",
       "    </tr>\n",
       "  </tbody>\n",
       "</table>\n",
       "</div>"
      ],
      "text/plain": [
       "        Day  log body size\n",
       "F_0d_1    0      -1.234815\n",
       "F_0d_2    0      -1.125918\n",
       "F_0d_3    0      -0.608946\n",
       "F_0d_4    0      -0.458096\n",
       "F_0d_5    0      -1.236921"
      ]
     },
     "execution_count": 25,
     "metadata": {},
     "output_type": "execute_result"
    }
   ],
   "source": [
    "df_11=df_1[[\"Day\"]]\n",
    "df_12=df_1[[\"log body size\"]]\n",
    "df_1=pd.concat([df_11, df_12], axis=1)\n",
    "df_1.head()"
   ]
  },
  {
   "cell_type": "code",
   "execution_count": 26,
   "id": "f6a53558",
   "metadata": {
    "id": "f6a53558",
    "outputId": "cbca2e14-a4d3-472e-ee51-d7cd8c364467",
    "scrolled": true
   },
   "outputs": [
    {
     "data": {
      "text/html": [
       "<div>\n",
       "<style scoped>\n",
       "    .dataframe tbody tr th:only-of-type {\n",
       "        vertical-align: middle;\n",
       "    }\n",
       "\n",
       "    .dataframe tbody tr th {\n",
       "        vertical-align: top;\n",
       "    }\n",
       "\n",
       "    .dataframe thead th {\n",
       "        text-align: right;\n",
       "    }\n",
       "</style>\n",
       "<table border=\"1\" class=\"dataframe\">\n",
       "  <thead>\n",
       "    <tr style=\"text-align: right;\">\n",
       "      <th></th>\n",
       "      <th>Day</th>\n",
       "      <th>log body size</th>\n",
       "    </tr>\n",
       "  </thead>\n",
       "  <tbody>\n",
       "    <tr>\n",
       "      <th>0</th>\n",
       "      <td>0</td>\n",
       "      <td>-1.259596</td>\n",
       "    </tr>\n",
       "    <tr>\n",
       "      <th>1</th>\n",
       "      <td>0</td>\n",
       "      <td>0.068377</td>\n",
       "    </tr>\n",
       "    <tr>\n",
       "      <th>2</th>\n",
       "      <td>0</td>\n",
       "      <td>-0.897231</td>\n",
       "    </tr>\n",
       "    <tr>\n",
       "      <th>3</th>\n",
       "      <td>0</td>\n",
       "      <td>-2.421077</td>\n",
       "    </tr>\n",
       "    <tr>\n",
       "      <th>4</th>\n",
       "      <td>0</td>\n",
       "      <td>-1.391876</td>\n",
       "    </tr>\n",
       "  </tbody>\n",
       "</table>\n",
       "</div>"
      ],
      "text/plain": [
       "   Day  log body size\n",
       "0    0      -1.259596\n",
       "1    0       0.068377\n",
       "2    0      -0.897231\n",
       "3    0      -2.421077\n",
       "4    0      -1.391876"
      ]
     },
     "execution_count": 26,
     "metadata": {},
     "output_type": "execute_result"
    }
   ],
   "source": [
    "df_21=df_2[[\"Day\"]]\n",
    "df_22=df_2[[\"log body size\"]]\n",
    "df_2=pd.concat([df_21, df_22], axis=1)\n",
    "df_2.head()"
   ]
  },
  {
   "cell_type": "code",
   "execution_count": 27,
   "id": "127903fa",
   "metadata": {
    "id": "127903fa"
   },
   "outputs": [],
   "source": [
    "df_31=df_3[[\"Day\"]]\n",
    "df_32=df_3[[\"log body size\"]]\n",
    "df_3=pd.concat([df_31, df_32], axis=1)\n",
    "\n",
    "#degrowth\n",
    "df_41=df_4[[\"Day\"]]\n",
    "df_42=df_4[[\"log body size\"]]\n",
    "df_4=pd.concat([df_41, df_42], axis=1)\n",
    "df_4_02=df_4[df_4[\"Day\"] <= 2]"
   ]
  },
  {
   "cell_type": "code",
   "execution_count": 28,
   "id": "b47d26af",
   "metadata": {
    "id": "b47d26af",
    "outputId": "ca0a3a28-2f4c-40df-c1c9-b4177066ffca",
    "scrolled": true
   },
   "outputs": [
    {
     "data": {
      "text/html": [
       "<div>\n",
       "<style scoped>\n",
       "    .dataframe tbody tr th:only-of-type {\n",
       "        vertical-align: middle;\n",
       "    }\n",
       "\n",
       "    .dataframe tbody tr th {\n",
       "        vertical-align: top;\n",
       "    }\n",
       "\n",
       "    .dataframe thead th {\n",
       "        text-align: right;\n",
       "    }\n",
       "</style>\n",
       "<table border=\"1\" class=\"dataframe\">\n",
       "  <thead>\n",
       "    <tr style=\"text-align: right;\">\n",
       "      <th></th>\n",
       "      <th>Day</th>\n",
       "      <th>log body size</th>\n",
       "    </tr>\n",
       "  </thead>\n",
       "  <tbody>\n",
       "    <tr>\n",
       "      <th>F_0d_1</th>\n",
       "      <td>0</td>\n",
       "      <td>-1.234815</td>\n",
       "    </tr>\n",
       "    <tr>\n",
       "      <th>F_0d_2</th>\n",
       "      <td>0</td>\n",
       "      <td>-1.125918</td>\n",
       "    </tr>\n",
       "    <tr>\n",
       "      <th>F_0d_3</th>\n",
       "      <td>0</td>\n",
       "      <td>-0.608946</td>\n",
       "    </tr>\n",
       "    <tr>\n",
       "      <th>F_0d_4</th>\n",
       "      <td>0</td>\n",
       "      <td>-0.458096</td>\n",
       "    </tr>\n",
       "    <tr>\n",
       "      <th>F_0d_5</th>\n",
       "      <td>0</td>\n",
       "      <td>-1.236921</td>\n",
       "    </tr>\n",
       "  </tbody>\n",
       "</table>\n",
       "</div>"
      ],
      "text/plain": [
       "        Day  log body size\n",
       "F_0d_1    0      -1.234815\n",
       "F_0d_2    0      -1.125918\n",
       "F_0d_3    0      -0.608946\n",
       "F_0d_4    0      -0.458096\n",
       "F_0d_5    0      -1.236921"
      ]
     },
     "execution_count": 28,
     "metadata": {},
     "output_type": "execute_result"
    }
   ],
   "source": [
    "df_m=pd.concat([df_1,df_2])\n",
    "df_m.head()"
   ]
  },
  {
   "cell_type": "code",
   "execution_count": 29,
   "id": "7161109e",
   "metadata": {
    "id": "7161109e"
   },
   "outputs": [],
   "source": [
    "df_m=pd.concat([df_m,df_3])\n",
    "df_m_02=pd.concat([df_m,df_4_02])"
   ]
  },
  {
   "cell_type": "code",
   "execution_count": 31,
   "id": "5de91962",
   "metadata": {
    "id": "5de91962"
   },
   "outputs": [],
   "source": [
    "#save as csv files\n",
    "df_m_02.to_csv('Data/all_growth_02.csv')"
   ]
  },
  {
   "cell_type": "markdown",
   "id": "d998fa9c",
   "metadata": {
    "id": "d998fa9c"
   },
   "source": [
    "# 4. Merging of all body size data for degrowth intervals"
   ]
  },
  {
   "cell_type": "markdown",
   "id": "2e37a49c",
   "metadata": {
    "id": "2e37a49c"
   },
   "source": [
    "We put together:\n",
    "\n",
    "    1. Body size for long starvation (i) \n",
    "    2. Body size for long starvation (ii)\n",
    "    3. Body size for starvation 0-21d:\n",
    "        3.1 either this degrowth is from day 5 to day 21\n",
    "        3.2 or from day 2 to day 21. We create two datasets for each choice."
   ]
  },
  {
   "cell_type": "code",
   "execution_count": 32,
   "id": "a791ff78",
   "metadata": {
    "id": "a791ff78"
   },
   "outputs": [],
   "source": [
    "df_1=pd.read_csv('Data/long_starvation_B.csv', index_col=0) \n",
    "df_2=pd.read_csv('Data/long_starvation_analogous_B.csv', index_col=0) \n",
    "df_3=pd.read_csv('Data/nematostella_degrowth_bgp.csv', index_col=0) \n",
    "\n",
    "\n",
    "df_11=df_1[[\"Day\"]]\n",
    "df_12=df_1[[\"log body size\"]]\n",
    "df_1=pd.concat([df_11, df_12], axis=1)\n",
    "\n",
    "df_21=df_2[[\"Day\"]]\n",
    "df_22=df_2[[\"log body size\"]]\n",
    "df_2=pd.concat([df_21, df_22], axis=1)\n",
    "\n",
    "#starvation\n",
    "df_31=df_3[[\"Day\"]]\n",
    "df_32=df_3[[\"log body size\"]]\n",
    "df_3=pd.concat([df_31, df_32], axis=1)\n",
    "\n",
    "df_3_221=df_3[df_3[\"Day\"] >= 2]\n",
    "\n",
    "df_m=pd.concat([df_1,df_2])\n",
    "df_m_221=pd.concat([df_m,df_3_221])"
   ]
  },
  {
   "cell_type": "code",
   "execution_count": 33,
   "id": "36efadcb",
   "metadata": {
    "id": "36efadcb"
   },
   "outputs": [],
   "source": [
    "#save as csv files\n",
    "df_m_221.to_csv('Data/all_degrowth_221.csv')"
   ]
  },
  {
   "cell_type": "markdown",
   "id": "87186310",
   "metadata": {
    "id": "87186310"
   },
   "source": [
    "# 5. Plots and comparisons of confidence intervals of the slope estimates for  each model"
   ]
  },
  {
   "cell_type": "markdown",
   "id": "91hJlqrg6fDN",
   "metadata": {
    "id": "91hJlqrg6fDN"
   },
   "source": [
    "The confidence intervals coming from simple linear regression models were computed as the mean estimate +- 2 times the mean standard error. These outputs can be obtained from the R file 'SimpleLinearRegressions.R' (found in this GitHub). The confidence intervals coming from multi-phase, changepoint-models, were computed in the R file 'MultiPhase.R' using the data in 'slopes_boots_updated.csv' for Nematostella and 'slopes_apo_symb.csv' for aiptasia, and these confidence intervals were stored in the data file **'CI_boots.csv'**. Note that the 4-phase models selected for AL and RES were those performed by the custom-written simulated annealing method in C++ (also found in this GitHub), so here we replace the corresponding confidence intervals in 'CI_boots.csv' for these 4 phase models. We manually write the confidence intervals in this section."
   ]
  },
  {
   "cell_type": "markdown",
   "id": "6f4fd8a7",
   "metadata": {
    "id": "6f4fd8a7"
   },
   "source": [
    " Growth:"
   ]
  },
  {
   "cell_type": "code",
   "execution_count": 38,
   "id": "255df05d",
   "metadata": {
    "id": "255df05d"
   },
   "outputs": [],
   "source": [
    "# These are the confidence intervals of each slope in each model \n",
    "a=[0.265, 0.2944]     #0-10d (single slope)\n",
    "b=[0.1166, 0.4311]    #b1 AL\n",
    "c=[0.0219, 0.099]     #b3 AL\n",
    "d=[0.0938, 0.248]     #b1 RES\n",
    "e=[0.016, 0.0949]     #b3 RES\n",
    "f=[-0.13, 0.0037]     #b1 long starvation (ii) 3-phases\n",
    "g=[0.156, 0.317]      #b1 starvation 0-21d\n",
    "h=[0.157, 0.207]      #refeeding 170d\n",
    "i=[0.157, 0.22]       #refeeding 200d \n",
    "\n",
    "all_intervals = [a,b,c,d,e,f,g,h,i]"
   ]
  },
  {
   "cell_type": "code",
   "execution_count": 39,
   "id": "97f5a320",
   "metadata": {
    "id": "97f5a320",
    "outputId": "17ed8a49-4193-4ea3-e4a8-e540227ed0ea",
    "scrolled": true
   },
   "outputs": [
    {
     "name": "stderr",
     "output_type": "stream",
     "text": [
      "/home/iain/.local/lib/python3.6/site-packages/ipykernel_launcher.py:10: UserWarning: FixedFormatter should only be used together with FixedLocator\n",
      "  # Remove the CWD from sys.path while we load stuff.\n"
     ]
    },
    {
     "data": {
      "image/png": "[encoded data removed]",
      "text/plain": [
       "<Figure size 560x480 with 1 Axes>"
      ]
     },
     "metadata": {
      "needs_background": "light"
     },
     "output_type": "display_data"
    }
   ],
   "source": [
    "#plot\n",
    "fig,ax = plt.subplots(figsize = (7,6), dpi = 80)\n",
    "for i,j in enumerate(all_intervals):\n",
    "    x_values = [j[0], j[1]]\n",
    "    y_values = [i+1, i+1]\n",
    "    plt.plot(x_values, y_values, lw=10, alpha=1)\n",
    "plt.grid()\n",
    "plt.title('Confidence intervals of growth rates', fontsize=15)\n",
    "ax.set_yticklabels( ('ff', '0-10d', 'feeding AL','refeeding AL', 'feeding RES', 'refeeding RES', 'first phase long starvation (ii)', 'first phase starvation 0-21d',\n",
    "                      'refeeding 170d', 'refeeding 200d' ) )\n",
    "ax.set_xlabel('Values (of the slopes)', fontsize=14)\n",
    "for label in (ax.get_xticklabels() + ax.get_yticklabels()):\n",
    "\tlabel.set_fontsize(14)\n",
    "plt.show()\n",
    "\n",
    "#save figure as svg format\n",
    "fig.savefig('CI_growth_updates.svg', format='svg', dpi=5000)"
   ]
  },
  {
   "cell_type": "markdown",
   "id": "57f9bfbf",
   "metadata": {
    "id": "57f9bfbf"
   },
   "source": [
    "Comparison of slopes by seeing when the confidence intervals intersect:"
   ]
  },
  {
   "cell_type": "code",
   "execution_count": 40,
   "id": "4d8c5fb0",
   "metadata": {
    "id": "4d8c5fb0"
   },
   "outputs": [],
   "source": [
    "# define the fucntion 'overlaps' that for two intervals a=[a1,a2] and b=[b1,b2]\n",
    "# returns the range of overlap between a and b, greater than zero, or \n",
    "# the distance between a and b, less than zero.\n",
    "def overlaps(a, b):\n",
    "    return min(a[1], b[1]) - max(a[0], b[0])"
   ]
  },
  {
   "cell_type": "code",
   "execution_count": 41,
   "id": "4e9dd515",
   "metadata": {
    "id": "4e9dd515",
    "outputId": "a07d85e2-01d5-4af1-e988-eb9c14efb5d8"
   },
   "outputs": [
    {
     "name": "stdout",
     "output_type": "stream",
     "text": [
      "a & b 0.02939999999999998\n",
      "a & c -0.166\n",
      "a & d -0.017000000000000015\n",
      "a & e -0.17010000000000003\n",
      "a & f -0.26130000000000003\n",
      "a & g 0.02939999999999998\n",
      "a & h -0.058000000000000024\n",
      "a & i -0.04500000000000001\n",
      "b & c -0.01759999999999999\n",
      "b & d 0.13140000000000002\n",
      "b & e -0.021699999999999997\n",
      "b & f -0.1129\n",
      "b & g 0.161\n",
      "b & h 0.04999999999999999\n",
      "b & i 0.063\n",
      "c & d 0.00520000000000001\n",
      "c & e 0.073\n",
      "c & f -0.0182\n",
      "c & g -0.056999999999999995\n",
      "c & h -0.057999999999999996\n",
      "c & i -0.057999999999999996\n",
      "d & e 0.0011000000000000038\n",
      "d & f -0.0901\n",
      "d & g 0.092\n",
      "d & h 0.04999999999999999\n",
      "d & i 0.063\n",
      "e & f -0.0123\n",
      "e & g -0.0611\n",
      "e & h -0.0621\n",
      "e & i -0.0621\n",
      "f & g -0.1523\n",
      "f & h -0.1533\n",
      "f & i -0.1533\n",
      "g & h 0.04999999999999999\n",
      "g & i 0.063\n",
      "h & i 0.04999999999999999\n"
     ]
    }
   ],
   "source": [
    "print('a & b', overlaps(all_intervals[0], all_intervals[1]))\n",
    "print('a & c', overlaps(all_intervals[0], all_intervals[2]))\n",
    "print('a & d', overlaps(all_intervals[0], all_intervals[3]))\n",
    "print('a & e', overlaps(all_intervals[0], all_intervals[4]))\n",
    "print('a & f', overlaps(all_intervals[0], all_intervals[5]))\n",
    "print('a & g', overlaps(all_intervals[0], all_intervals[6]))\n",
    "print('a & h', overlaps(all_intervals[0], all_intervals[7]))\n",
    "print('a & i', overlaps(all_intervals[0], all_intervals[8]))\n",
    "\n",
    "print('b & c', overlaps(all_intervals[1], all_intervals[2]))\n",
    "print('b & d', overlaps(all_intervals[1], all_intervals[3]))\n",
    "print('b & e', overlaps(all_intervals[1], all_intervals[4]))\n",
    "print('b & f', overlaps(all_intervals[1], all_intervals[5]))\n",
    "print('b & g', overlaps(all_intervals[1], all_intervals[6]))\n",
    "print('b & h', overlaps(all_intervals[1], all_intervals[7]))\n",
    "print('b & i', overlaps(all_intervals[1], all_intervals[8]))\n",
    "\n",
    "print('c & d', overlaps(all_intervals[2], all_intervals[3]))\n",
    "print('c & e', overlaps(all_intervals[2], all_intervals[4]))\n",
    "print('c & f', overlaps(all_intervals[2], all_intervals[5]))\n",
    "print('c & g', overlaps(all_intervals[2], all_intervals[6]))\n",
    "print('c & h', overlaps(all_intervals[2], all_intervals[7]))\n",
    "print('c & i', overlaps(all_intervals[2], all_intervals[8]))\n",
    "\n",
    "print('d & e', overlaps(all_intervals[3], all_intervals[4]))\n",
    "print('d & f', overlaps(all_intervals[3], all_intervals[5]))\n",
    "print('d & g', overlaps(all_intervals[3], all_intervals[6]))\n",
    "print('d & h', overlaps(all_intervals[3], all_intervals[7]))\n",
    "print('d & i', overlaps(all_intervals[3], all_intervals[8]))\n",
    "\n",
    "print('e & f', overlaps(all_intervals[4], all_intervals[5]))\n",
    "print('e & g', overlaps(all_intervals[4], all_intervals[6]))\n",
    "print('e & h', overlaps(all_intervals[4], all_intervals[7]))\n",
    "print('e & i', overlaps(all_intervals[4], all_intervals[8]))\n",
    "\n",
    "print('f & g', overlaps(all_intervals[5], all_intervals[6]))\n",
    "print('f & h', overlaps(all_intervals[5], all_intervals[7]))\n",
    "print('f & i', overlaps(all_intervals[5], all_intervals[8]))\n",
    "\n",
    "print('g & h', overlaps(all_intervals[6], all_intervals[7]))\n",
    "print('g & i', overlaps(all_intervals[6], all_intervals[8]))\n",
    "\n",
    "print('h & i', overlaps(all_intervals[7], all_intervals[8]))"
   ]
  },
  {
   "cell_type": "markdown",
   "id": "89004ebe",
   "metadata": {
    "id": "89004ebe"
   },
   "source": [
    "Degrowth:"
   ]
  },
  {
   "cell_type": "code",
   "execution_count": 42,
   "id": "f4811b82",
   "metadata": {
    "id": "f4811b82"
   },
   "outputs": [],
   "source": [
    "a=[-0.033,-0.013]      #0-21 slope b2\n",
    "b=[-0.02997,-0.0133]   #b2 AL\n",
    "c=[-0.02739,-0.0175]   #b4 AL\n",
    "d=[-0.051,-0.0277]     #b2 RES\n",
    "e=[-0.03,-0.012]       #b4 RES\n",
    "f=[-0.0174,-0.0166]    #long starvation B\n",
    "g=[-0.0373,0.00168]    #long starv an B 3-phases b2\n",
    "\n",
    "all_intervals = [a,b,c,d,e,f,g]"
   ]
  },
  {
   "cell_type": "code",
   "execution_count": 43,
   "id": "bfa23ca5",
   "metadata": {
    "id": "bfa23ca5",
    "outputId": "f4b75874-094b-4204-931c-704a55bf2d6e",
    "scrolled": false
   },
   "outputs": [
    {
     "name": "stderr",
     "output_type": "stream",
     "text": [
      "/home/iain/.local/lib/python3.6/site-packages/ipykernel_launcher.py:10: UserWarning: FixedFormatter should only be used together with FixedLocator\n",
      "  # Remove the CWD from sys.path while we load stuff.\n"
     ]
    },
    {
     "data": {
      "image/png": "[encoded data removed]",
      "text/plain": [
       "<Figure size 560x480 with 1 Axes>"
      ]
     },
     "metadata": {
      "needs_background": "light"
     },
     "output_type": "display_data"
    }
   ],
   "source": [
    "fig,ax = plt.subplots(figsize = (7,6), dpi = 80)\n",
    "for i,j in enumerate(all_intervals):\n",
    "    x_values = [j[0], j[1]]\n",
    "    y_values = [i+1, i+1]\n",
    "    plt.plot(x_values, y_values, lw=10, alpha=1)\n",
    "plt.grid()\n",
    "plt.title('Confidence intervals of degrowth rates', fontsize=15)\n",
    "ax.set_xlabel('Values (of the slopes)', fontsize=14)\n",
    "#plt.yticks\n",
    "ax.set_yticklabels( ('ff', 'second phase starvation 0-21d', 'starvation AL','restarvation AL', 'starvation RES', 'restarvation RES', 'long starvation (i)', ' second phase long starvation (ii)',\n",
    "                      ) )\n",
    "#ax.legend(['First line', 'Second line'])\n",
    "for label in (ax.get_xticklabels() + ax.get_yticklabels()):\n",
    "\tlabel.set_fontsize(14)\n",
    "plt.show()\n",
    "\n",
    "#save figure as svg form\n",
    "fig.savefig('CI_degrowth_updates.svg', format='svg', dpi=5000)"
   ]
  },
  {
   "cell_type": "markdown",
   "id": "51a4d655",
   "metadata": {
    "id": "51a4d655"
   },
   "source": [
    "Comparison of slopes by seeing when the confidence intervals intersect, as for the growth case above:"
   ]
  },
  {
   "cell_type": "code",
   "execution_count": 44,
   "id": "76903a07",
   "metadata": {
    "id": "76903a07",
    "outputId": "9fcdbe95-d34b-43f9-fbee-92cfeba9c23b"
   },
   "outputs": [
    {
     "name": "stdout",
     "output_type": "stream",
     "text": [
      "a & b 0.01667\n",
      "a & c 0.00989\n",
      "a & d 0.005300000000000003\n",
      "a & e 0.017\n",
      "a & f 0.0007999999999999986\n",
      "a & g 0.020000000000000004\n",
      "b & c 0.00989\n",
      "b & d 0.002270000000000001\n",
      "b & e 0.01667\n",
      "b & f 0.0007999999999999986\n",
      "b & g 0.01667\n",
      "c & d -0.0003099999999999978\n",
      "c & e 0.00989\n",
      "c & f -0.00010000000000000286\n",
      "c & g 0.00989\n",
      "d & e 0.0023\n",
      "d & f -0.0103\n",
      "d & g 0.009600000000000001\n",
      "e & f 0.0007999999999999986\n",
      "e & g 0.018\n",
      "f & g 0.0007999999999999986\n"
     ]
    }
   ],
   "source": [
    "print('a & b', overlaps(all_intervals[0], all_intervals[1]))\n",
    "print('a & c', overlaps(all_intervals[0], all_intervals[2]))\n",
    "print('a & d', overlaps(all_intervals[0], all_intervals[3]))\n",
    "print('a & e', overlaps(all_intervals[0], all_intervals[4]))\n",
    "print('a & f', overlaps(all_intervals[0], all_intervals[5]))\n",
    "print('a & g', overlaps(all_intervals[0], all_intervals[6]))\n",
    "\n",
    "print('b & c', overlaps(all_intervals[1], all_intervals[2]))\n",
    "print('b & d', overlaps(all_intervals[1], all_intervals[3]))\n",
    "print('b & e', overlaps(all_intervals[1], all_intervals[4]))\n",
    "print('b & f', overlaps(all_intervals[1], all_intervals[5]))\n",
    "print('b & g', overlaps(all_intervals[1], all_intervals[6]))\n",
    "\n",
    "print('c & d', overlaps(all_intervals[2], all_intervals[3]))\n",
    "print('c & e', overlaps(all_intervals[2], all_intervals[4]))\n",
    "print('c & f', overlaps(all_intervals[2], all_intervals[5]))\n",
    "print('c & g', overlaps(all_intervals[2], all_intervals[6]))\n",
    "\n",
    "print('d & e', overlaps(all_intervals[3], all_intervals[4]))\n",
    "print('d & f', overlaps(all_intervals[3], all_intervals[5]))\n",
    "print('d & g', overlaps(all_intervals[3], all_intervals[6]))\n",
    "\n",
    "print('e & f', overlaps(all_intervals[4], all_intervals[5]))\n",
    "print('e & g', overlaps(all_intervals[4], all_intervals[6]))\n",
    "\n",
    "print('f & g', overlaps(all_intervals[5], all_intervals[6]))"
   ]
  },
  {
   "cell_type": "markdown",
   "id": "8679dd88",
   "metadata": {
    "id": "8679dd88"
   },
   "source": [
    "# 6. Merging all datasets of slope estimates into one. These estimates come from bootstrapping  the multiphase models in R"
   ]
  },
  {
   "cell_type": "code",
   "execution_count": 4,
   "id": "75daf0fc",
   "metadata": {
    "id": "75daf0fc"
   },
   "outputs": [],
   "source": [
    "#body size long starvation (ii) or analogous B\n",
    "df1=pd.read_csv('Precomputed/df1_m3.csv', index_col=0)           \n",
    "#body size starvation 0-21d\n",
    "df2=pd.read_csv('Precomputed/df2_m2.csv', index_col=0)        \n",
    "#cell number starvation 0-21d\n",
    "df3=pd.read_csv('Precomputed/df3_m2.csv', index_col=0)        \n",
    "#cell size starvation 0-21d\n",
    "df4=pd.read_csv('Precomputed/df4_m3.csv', index_col=0)\n",
    "#cyclic AL\n",
    "df5=pd.read_csv('Precomputed/df5_m4.csv', index_col=0)\n",
    "#cyclic RES\n",
    "df6=pd.read_csv('Precomputed/df6_m4.csv', index_col=0)"
   ]
  },
  {
   "cell_type": "code",
   "execution_count": 5,
   "id": "1d0d2696",
   "metadata": {
    "id": "1d0d2696",
    "outputId": "1e2441ed-c596-48d3-c736-24984795a47e"
   },
   "outputs": [
    {
     "data": {
      "text/html": [
       "<div>\n",
       "<style scoped>\n",
       "    .dataframe tbody tr th:only-of-type {\n",
       "        vertical-align: middle;\n",
       "    }\n",
       "\n",
       "    .dataframe tbody tr th {\n",
       "        vertical-align: top;\n",
       "    }\n",
       "\n",
       "    .dataframe thead th {\n",
       "        text-align: right;\n",
       "    }\n",
       "</style>\n",
       "<table border=\"1\" class=\"dataframe\">\n",
       "  <thead>\n",
       "    <tr style=\"text-align: right;\">\n",
       "      <th></th>\n",
       "      <th>b_1.long.starvation..ii.</th>\n",
       "      <th>b_2.long.starvation..ii.</th>\n",
       "      <th>b_3.long.starvation..ii.</th>\n",
       "      <th>b_1.0.21d</th>\n",
       "      <th>b_2.0.21d</th>\n",
       "      <th>b_1.0.21d.cell.number</th>\n",
       "      <th>b_2.0.21d.cell.number</th>\n",
       "      <th>b_1.0.21d.cell.size</th>\n",
       "      <th>b_2.0.21d.cell.size</th>\n",
       "      <th>b_3.0.21d.cell.size</th>\n",
       "      <th>b_1.AL</th>\n",
       "      <th>b_2.AL</th>\n",
       "      <th>b_3.AL</th>\n",
       "      <th>b_4.AL</th>\n",
       "      <th>b_1.RES</th>\n",
       "      <th>b_2.RES</th>\n",
       "      <th>b_3.RES</th>\n",
       "      <th>b_4.RES</th>\n",
       "    </tr>\n",
       "  </thead>\n",
       "  <tbody>\n",
       "    <tr>\n",
       "      <th>1</th>\n",
       "      <td>-0.027329</td>\n",
       "      <td>-0.031928</td>\n",
       "      <td>0.000642</td>\n",
       "      <td>0.239245</td>\n",
       "      <td>-0.023181</td>\n",
       "      <td>0.404205</td>\n",
       "      <td>-0.101069</td>\n",
       "      <td>0.071222</td>\n",
       "      <td>-0.043985</td>\n",
       "      <td>0.028112</td>\n",
       "      <td>0.246731</td>\n",
       "      <td>-0.023099</td>\n",
       "      <td>0.061858</td>\n",
       "      <td>-0.023098</td>\n",
       "      <td>0.174226</td>\n",
       "      <td>-0.028311</td>\n",
       "      <td>0.087373</td>\n",
       "      <td>-0.026073</td>\n",
       "    </tr>\n",
       "    <tr>\n",
       "      <th>2</th>\n",
       "      <td>-0.033678</td>\n",
       "      <td>-0.033907</td>\n",
       "      <td>-0.001860</td>\n",
       "      <td>0.209144</td>\n",
       "      <td>-0.023398</td>\n",
       "      <td>0.310906</td>\n",
       "      <td>-0.110579</td>\n",
       "      <td>0.202864</td>\n",
       "      <td>-0.039855</td>\n",
       "      <td>0.066872</td>\n",
       "      <td>0.275296</td>\n",
       "      <td>-0.016455</td>\n",
       "      <td>0.078814</td>\n",
       "      <td>-0.021288</td>\n",
       "      <td>0.153773</td>\n",
       "      <td>-0.036541</td>\n",
       "      <td>0.044646</td>\n",
       "      <td>-0.022507</td>\n",
       "    </tr>\n",
       "    <tr>\n",
       "      <th>3</th>\n",
       "      <td>-0.021791</td>\n",
       "      <td>-0.009904</td>\n",
       "      <td>-0.002564</td>\n",
       "      <td>0.267222</td>\n",
       "      <td>-0.015846</td>\n",
       "      <td>0.260749</td>\n",
       "      <td>-0.100873</td>\n",
       "      <td>0.064930</td>\n",
       "      <td>-0.075486</td>\n",
       "      <td>-0.004563</td>\n",
       "      <td>0.295530</td>\n",
       "      <td>-0.017143</td>\n",
       "      <td>0.093204</td>\n",
       "      <td>-0.020192</td>\n",
       "      <td>0.215557</td>\n",
       "      <td>-0.038851</td>\n",
       "      <td>0.034442</td>\n",
       "      <td>-0.019473</td>\n",
       "    </tr>\n",
       "    <tr>\n",
       "      <th>4</th>\n",
       "      <td>-0.096626</td>\n",
       "      <td>-0.028727</td>\n",
       "      <td>0.000350</td>\n",
       "      <td>0.174805</td>\n",
       "      <td>-0.017327</td>\n",
       "      <td>0.650255</td>\n",
       "      <td>-0.093764</td>\n",
       "      <td>0.021994</td>\n",
       "      <td>-0.046452</td>\n",
       "      <td>0.020608</td>\n",
       "      <td>0.303442</td>\n",
       "      <td>-0.019965</td>\n",
       "      <td>0.088327</td>\n",
       "      <td>-0.022242</td>\n",
       "      <td>0.220914</td>\n",
       "      <td>-0.041160</td>\n",
       "      <td>0.046535</td>\n",
       "      <td>-0.025138</td>\n",
       "    </tr>\n",
       "    <tr>\n",
       "      <th>5</th>\n",
       "      <td>-0.029640</td>\n",
       "      <td>-0.012192</td>\n",
       "      <td>0.004276</td>\n",
       "      <td>0.360879</td>\n",
       "      <td>-0.031871</td>\n",
       "      <td>0.255702</td>\n",
       "      <td>-0.090256</td>\n",
       "      <td>0.064878</td>\n",
       "      <td>-0.042973</td>\n",
       "      <td>0.040886</td>\n",
       "      <td>0.210844</td>\n",
       "      <td>-0.020112</td>\n",
       "      <td>0.040866</td>\n",
       "      <td>-0.022308</td>\n",
       "      <td>0.232320</td>\n",
       "      <td>-0.036930</td>\n",
       "      <td>0.064590</td>\n",
       "      <td>-0.018191</td>\n",
       "    </tr>\n",
       "  </tbody>\n",
       "</table>\n",
       "</div>"
      ],
      "text/plain": [
       "   b_1.long.starvation..ii.  b_2.long.starvation..ii.  \\\n",
       "1                 -0.027329                 -0.031928   \n",
       "2                 -0.033678                 -0.033907   \n",
       "3                 -0.021791                 -0.009904   \n",
       "4                 -0.096626                 -0.028727   \n",
       "5                 -0.029640                 -0.012192   \n",
       "\n",
       "   b_3.long.starvation..ii.  b_1.0.21d  b_2.0.21d  b_1.0.21d.cell.number  \\\n",
       "1                  0.000642   0.239245  -0.023181               0.404205   \n",
       "2                 -0.001860   0.209144  -0.023398               0.310906   \n",
       "3                 -0.002564   0.267222  -0.015846               0.260749   \n",
       "4                  0.000350   0.174805  -0.017327               0.650255   \n",
       "5                  0.004276   0.360879  -0.031871               0.255702   \n",
       "\n",
       "   b_2.0.21d.cell.number  b_1.0.21d.cell.size  b_2.0.21d.cell.size  \\\n",
       "1              -0.101069             0.071222            -0.043985   \n",
       "2              -0.110579             0.202864            -0.039855   \n",
       "3              -0.100873             0.064930            -0.075486   \n",
       "4              -0.093764             0.021994            -0.046452   \n",
       "5              -0.090256             0.064878            -0.042973   \n",
       "\n",
       "   b_3.0.21d.cell.size    b_1.AL    b_2.AL    b_3.AL    b_4.AL   b_1.RES  \\\n",
       "1             0.028112  0.246731 -0.023099  0.061858 -0.023098  0.174226   \n",
       "2             0.066872  0.275296 -0.016455  0.078814 -0.021288  0.153773   \n",
       "3            -0.004563  0.295530 -0.017143  0.093204 -0.020192  0.215557   \n",
       "4             0.020608  0.303442 -0.019965  0.088327 -0.022242  0.220914   \n",
       "5             0.040886  0.210844 -0.020112  0.040866 -0.022308  0.232320   \n",
       "\n",
       "    b_2.RES   b_3.RES   b_4.RES  \n",
       "1 -0.028311  0.087373 -0.026073  \n",
       "2 -0.036541  0.044646 -0.022507  \n",
       "3 -0.038851  0.034442 -0.019473  \n",
       "4 -0.041160  0.046535 -0.025138  \n",
       "5 -0.036930  0.064590 -0.018191  "
      ]
     },
     "execution_count": 5,
     "metadata": {},
     "output_type": "execute_result"
    }
   ],
   "source": [
    "df=pd.merge(df1, df2, left_index=True, right_index=True)\n",
    "df=pd.merge(df, df3, left_index=True, right_index=True)\n",
    "df=pd.merge(df, df4, left_index=True, right_index=True)\n",
    "df=pd.merge(df, df5, left_index=True, right_index=True)\n",
    "df=pd.merge(df, df6, left_index=True, right_index=True)\n",
    "df.head()"
   ]
  },
  {
   "cell_type": "code",
   "execution_count": 6,
   "id": "bb017893",
   "metadata": {
    "id": "bb017893"
   },
   "outputs": [],
   "source": [
    "#save as csv file\n",
    "df.to_csv('Data/slopes_boots_updated.csv')"
   ]
  },
  {
   "cell_type": "markdown",
   "id": "b9934917",
   "metadata": {
    "id": "b9934917"
   },
   "source": [
    "Re-format the data frame above so that we can plot the data as distibutions in the same x-axis in R:"
   ]
  },
  {
   "cell_type": "code",
   "execution_count": 7,
   "id": "58c49494",
   "metadata": {
    "id": "58c49494",
    "outputId": "55fd6545-604e-4840-901f-91aeeae2f5c6",
    "scrolled": true
   },
   "outputs": [
    {
     "data": {
      "text/html": [
       "<div>\n",
       "<style scoped>\n",
       "    .dataframe tbody tr th:only-of-type {\n",
       "        vertical-align: middle;\n",
       "    }\n",
       "\n",
       "    .dataframe tbody tr th {\n",
       "        vertical-align: top;\n",
       "    }\n",
       "\n",
       "    .dataframe thead th {\n",
       "        text-align: right;\n",
       "    }\n",
       "</style>\n",
       "<table border=\"1\" class=\"dataframe\">\n",
       "  <thead>\n",
       "    <tr style=\"text-align: right;\">\n",
       "      <th></th>\n",
       "      <th>Boots value</th>\n",
       "    </tr>\n",
       "  </thead>\n",
       "  <tbody>\n",
       "    <tr>\n",
       "      <th>b_1.long.starvation..ii.</th>\n",
       "      <td>-0.027329</td>\n",
       "    </tr>\n",
       "    <tr>\n",
       "      <th>b_2.long.starvation..ii.</th>\n",
       "      <td>-0.031928</td>\n",
       "    </tr>\n",
       "    <tr>\n",
       "      <th>b_3.long.starvation..ii.</th>\n",
       "      <td>0.000642</td>\n",
       "    </tr>\n",
       "    <tr>\n",
       "      <th>b_1.0.21d</th>\n",
       "      <td>0.239245</td>\n",
       "    </tr>\n",
       "    <tr>\n",
       "      <th>b_2.0.21d</th>\n",
       "      <td>-0.023181</td>\n",
       "    </tr>\n",
       "  </tbody>\n",
       "</table>\n",
       "</div>"
      ],
      "text/plain": [
       "                          Boots value\n",
       "b_1.long.starvation..ii.    -0.027329\n",
       "b_2.long.starvation..ii.    -0.031928\n",
       "b_3.long.starvation..ii.     0.000642\n",
       "b_1.0.21d                    0.239245\n",
       "b_2.0.21d                   -0.023181"
      ]
     },
     "execution_count": 7,
     "metadata": {},
     "output_type": "execute_result"
    }
   ],
   "source": [
    "df_reseted=pd.DataFrame(df.stack().reset_index(level=0,drop=True))\n",
    "df_reseted.columns=[\"Boots value\"]\n",
    "df_reseted.head()"
   ]
  },
  {
   "cell_type": "code",
   "execution_count": 8,
   "id": "480115c6",
   "metadata": {
    "id": "480115c6",
    "outputId": "feb30a0a-915f-47fa-e6cc-40cee44a1569"
   },
   "outputs": [
    {
     "data": {
      "text/html": [
       "<div>\n",
       "<style scoped>\n",
       "    .dataframe tbody tr th:only-of-type {\n",
       "        vertical-align: middle;\n",
       "    }\n",
       "\n",
       "    .dataframe tbody tr th {\n",
       "        vertical-align: top;\n",
       "    }\n",
       "\n",
       "    .dataframe thead th {\n",
       "        text-align: right;\n",
       "    }\n",
       "</style>\n",
       "<table border=\"1\" class=\"dataframe\">\n",
       "  <thead>\n",
       "    <tr style=\"text-align: right;\">\n",
       "      <th></th>\n",
       "      <th>Boots value</th>\n",
       "      <th>Legend</th>\n",
       "    </tr>\n",
       "  </thead>\n",
       "  <tbody>\n",
       "    <tr>\n",
       "      <th>b_1.long.starvation..ii.</th>\n",
       "      <td>-0.027329</td>\n",
       "      <td>b_1.long.starvation..ii.</td>\n",
       "    </tr>\n",
       "    <tr>\n",
       "      <th>b_2.long.starvation..ii.</th>\n",
       "      <td>-0.031928</td>\n",
       "      <td>b_2.long.starvation..ii.</td>\n",
       "    </tr>\n",
       "    <tr>\n",
       "      <th>b_3.long.starvation..ii.</th>\n",
       "      <td>0.000642</td>\n",
       "      <td>b_3.long.starvation..ii.</td>\n",
       "    </tr>\n",
       "    <tr>\n",
       "      <th>b_1.0.21d</th>\n",
       "      <td>0.239245</td>\n",
       "      <td>b_1.0.21d</td>\n",
       "    </tr>\n",
       "    <tr>\n",
       "      <th>b_2.0.21d</th>\n",
       "      <td>-0.023181</td>\n",
       "      <td>b_2.0.21d</td>\n",
       "    </tr>\n",
       "  </tbody>\n",
       "</table>\n",
       "</div>"
      ],
      "text/plain": [
       "                          Boots value                    Legend\n",
       "b_1.long.starvation..ii.    -0.027329  b_1.long.starvation..ii.\n",
       "b_2.long.starvation..ii.    -0.031928  b_2.long.starvation..ii.\n",
       "b_3.long.starvation..ii.     0.000642  b_3.long.starvation..ii.\n",
       "b_1.0.21d                    0.239245                 b_1.0.21d\n",
       "b_2.0.21d                   -0.023181                 b_2.0.21d"
      ]
     },
     "execution_count": 8,
     "metadata": {},
     "output_type": "execute_result"
    }
   ],
   "source": [
    "axes_to_colum=df_reseted.index\n",
    "list_axes=df_reseted.index.tolist()\n",
    "df_reseted['Legend']=list_axes\n",
    "df_reseted.head()"
   ]
  },
  {
   "cell_type": "code",
   "execution_count": null,
   "id": "25b4fbd9",
   "metadata": {
    "id": "25b4fbd9"
   },
   "outputs": [],
   "source": [
    "#save as csv file\n",
    "df_reseted.to_csv('Data/slopes_boots_newformat_updated.csv')"
   ]
  },
  {
   "cell_type": "markdown",
   "id": "2ad90e74",
   "metadata": {
    "id": "2ad90e74"
   },
   "source": [
    "# 7. Computation of the mean and 2 times the standard error of the slope distributions from bootstrapping the multi-phase models in R"
   ]
  },
  {
   "cell_type": "code",
   "execution_count": null,
   "id": "d4ae0d2c",
   "metadata": {
    "id": "d4ae0d2c"
   },
   "outputs": [],
   "source": [
    "# For an interval [a,b], return the mean and the distance from the mean to the endpoints of the interval\n",
    "# this last distance corresponds to 2 times the standard error.\n",
    "def m(a,b):\n",
    "    mean=(a+b)/2\n",
    "    two_times_se=mean-a\n",
    "    return (mean, two_times_se)"
   ]
  },
  {
   "cell_type": "code",
   "execution_count": null,
   "id": "40f3ccbe",
   "metadata": {
    "id": "40f3ccbe",
    "outputId": "57c10e92-a7f2-4d1c-db84-704ad86a58a8",
    "scrolled": true
   },
   "outputs": [
    {
     "name": "stdout",
     "output_type": "stream",
     "text": [
      "(0.2365, 0.08049999999999999)\n",
      "(-0.023, 0.010000000000000002)\n",
      "(0.44000000000000006, 0.24000000000000005)\n",
      "(-0.1015, 0.023499999999999993)\n",
      "(0.0975, 0.1155)\n",
      "(-0.049, 0.018000000000000002)\n",
      "(0.059500000000000004, 0.07050000000000001)\n",
      "(-0.00465, 0.00835)\n",
      "(-0.01781, 0.01949)\n",
      "(0.0023499999999999997, 0.013349999999999999)\n",
      "(0.27385, 0.15725)\n",
      "(-0.021635, 0.008334999999999999)\n",
      "(0.060450000000000004, 0.03855)\n",
      "(-0.022445, 0.0049450000000000015)\n",
      "(0.1709, 0.0771)\n",
      "(-0.039349999999999996, 0.01165)\n",
      "(0.05545, 0.03945)\n",
      "(-0.020999999999999998, 0.009000000000000001)\n"
     ]
    }
   ],
   "source": [
    "print(m(0.156, 0.317))       #b1 body 0-21d\n",
    "print(m(-0.033, -0.013))     #b2 body 0-21d\n",
    "print(m(0.2, 0.68))          #b1 cell number 0-21d\n",
    "print(m(-0.125, -0.078))     #b2 cell number 0-21d\n",
    "print(m(-0.018, 0.213))      #b1 cell size 0-21d\n",
    "print(m(-0.067, -0.031))     #b2 cell size 0-21d\n",
    "print(m(-0.011, 0.13))       #b3 cell size 0-21d\n",
    "print(m(-0.013, 0.0037))     #b1 long ii\n",
    "print(m(-0.0373, 0.00168))   #b2 long ii\n",
    "print(m(-0.011, 0.0157))     #b3 long ii\n",
    "print(m(0.1166, 0.4311))     #b1 AL\n",
    "print(m(-0.02997, -0.0133))  #b2 AL\n",
    "print(m(0.0219, 0.099))      #b3 AL\n",
    "print(m(-0.02739, -0.0175))  #b4 AL\n",
    "print(m(0.0938, 0.248))      #b1 RES\n",
    "print(m(-0.051, -0.0277))    #b2 RES\n",
    "print(m(0.016, 0.0949))      #b3 RES\n",
    "print(m(-0.03, -0.012))      #b4 RES"
   ]
  },
  {
   "cell_type": "markdown",
   "id": "00392895",
   "metadata": {
    "id": "00392895"
   },
   "source": [
    "# 8. Aiptasia data"
   ]
  },
  {
   "cell_type": "markdown",
   "id": "57371e9e",
   "metadata": {
    "id": "57371e9e"
   },
   "source": [
    " Preparation of the data in csv files with a column for the log transform:"
   ]
  },
  {
   "cell_type": "code",
   "execution_count": null,
   "id": "5c6a941d",
   "metadata": {
    "id": "5c6a941d",
    "outputId": "35fd3a2a-b32e-4be5-9461-c3c89403ecd4"
   },
   "outputs": [
    {
     "data": {
      "text/html": [
       "<div>\n",
       "<style scoped>\n",
       "    .dataframe tbody tr th:only-of-type {\n",
       "        vertical-align: middle;\n",
       "    }\n",
       "\n",
       "    .dataframe tbody tr th {\n",
       "        vertical-align: top;\n",
       "    }\n",
       "\n",
       "    .dataframe thead th {\n",
       "        text-align: right;\n",
       "    }\n",
       "</style>\n",
       "<table border=\"1\" class=\"dataframe\">\n",
       "  <thead>\n",
       "    <tr style=\"text-align: right;\">\n",
       "      <th></th>\n",
       "      <th>day</th>\n",
       "      <th>symbiosis</th>\n",
       "      <th>individual</th>\n",
       "      <th>name</th>\n",
       "      <th>pxl</th>\n",
       "      <th>mm2</th>\n",
       "      <th>condition</th>\n",
       "    </tr>\n",
       "  </thead>\n",
       "  <tbody>\n",
       "    <tr>\n",
       "      <th>0</th>\n",
       "      <td>0</td>\n",
       "      <td>apo</td>\n",
       "      <td>p1</td>\n",
       "      <td>1</td>\n",
       "      <td>18092</td>\n",
       "      <td>3.99</td>\n",
       "      <td>fed</td>\n",
       "    </tr>\n",
       "    <tr>\n",
       "      <th>1</th>\n",
       "      <td>0</td>\n",
       "      <td>apo</td>\n",
       "      <td>p1</td>\n",
       "      <td>2</td>\n",
       "      <td>16930</td>\n",
       "      <td>3.73</td>\n",
       "      <td>fed</td>\n",
       "    </tr>\n",
       "    <tr>\n",
       "      <th>2</th>\n",
       "      <td>0</td>\n",
       "      <td>apo</td>\n",
       "      <td>p1</td>\n",
       "      <td>3</td>\n",
       "      <td>16083</td>\n",
       "      <td>3.54</td>\n",
       "      <td>fed</td>\n",
       "    </tr>\n",
       "    <tr>\n",
       "      <th>3</th>\n",
       "      <td>0</td>\n",
       "      <td>apo</td>\n",
       "      <td>p1</td>\n",
       "      <td>4</td>\n",
       "      <td>14522</td>\n",
       "      <td>3.20</td>\n",
       "      <td>fed</td>\n",
       "    </tr>\n",
       "    <tr>\n",
       "      <th>4</th>\n",
       "      <td>0</td>\n",
       "      <td>apo</td>\n",
       "      <td>p1</td>\n",
       "      <td>5</td>\n",
       "      <td>12001</td>\n",
       "      <td>2.64</td>\n",
       "      <td>fed</td>\n",
       "    </tr>\n",
       "  </tbody>\n",
       "</table>\n",
       "</div>"
      ],
      "text/plain": [
       "   day symbiosis individual  name    pxl   mm2 condition\n",
       "0    0       apo         p1     1  18092  3.99       fed\n",
       "1    0       apo         p1     2  16930  3.73       fed\n",
       "2    0       apo         p1     3  16083  3.54       fed\n",
       "3    0       apo         p1     4  14522  3.20       fed\n",
       "4    0       apo         p1     5  12001  2.64       fed"
      ]
     },
     "execution_count": 44,
     "metadata": {},
     "output_type": "execute_result"
    }
   ],
   "source": [
    "#extract the data for body size\n",
    "#columns separated by \\, decimal numbers written by , instead of . (which is interpreted as a string\n",
    "# instead of as a float if we do not transform it)\n",
    "df=pd.read_csv('Data/longer-starved_aiptasia.txt', delimiter='\\s+', decimal=\",\")\n",
    "df.head()"
   ]
  },
  {
   "cell_type": "code",
   "execution_count": null,
   "id": "54cc49d7",
   "metadata": {
    "id": "54cc49d7",
    "outputId": "bd21aae3-7843-4ca7-da9b-d43f2a24e0fa"
   },
   "outputs": [
    {
     "data": {
      "text/html": [
       "<div>\n",
       "<style scoped>\n",
       "    .dataframe tbody tr th:only-of-type {\n",
       "        vertical-align: middle;\n",
       "    }\n",
       "\n",
       "    .dataframe tbody tr th {\n",
       "        vertical-align: top;\n",
       "    }\n",
       "\n",
       "    .dataframe thead th {\n",
       "        text-align: right;\n",
       "    }\n",
       "</style>\n",
       "<table border=\"1\" class=\"dataframe\">\n",
       "  <thead>\n",
       "    <tr style=\"text-align: right;\">\n",
       "      <th></th>\n",
       "      <th>day</th>\n",
       "      <th>symbiosis</th>\n",
       "      <th>individual</th>\n",
       "      <th>name</th>\n",
       "      <th>pxl</th>\n",
       "      <th>mm2</th>\n",
       "      <th>condition</th>\n",
       "      <th>log body size</th>\n",
       "    </tr>\n",
       "  </thead>\n",
       "  <tbody>\n",
       "    <tr>\n",
       "      <th>0</th>\n",
       "      <td>0</td>\n",
       "      <td>apo</td>\n",
       "      <td>p1</td>\n",
       "      <td>1</td>\n",
       "      <td>18092</td>\n",
       "      <td>3.99</td>\n",
       "      <td>fed</td>\n",
       "      <td>1.383791</td>\n",
       "    </tr>\n",
       "    <tr>\n",
       "      <th>1</th>\n",
       "      <td>0</td>\n",
       "      <td>apo</td>\n",
       "      <td>p1</td>\n",
       "      <td>2</td>\n",
       "      <td>16930</td>\n",
       "      <td>3.73</td>\n",
       "      <td>fed</td>\n",
       "      <td>1.316408</td>\n",
       "    </tr>\n",
       "    <tr>\n",
       "      <th>2</th>\n",
       "      <td>0</td>\n",
       "      <td>apo</td>\n",
       "      <td>p1</td>\n",
       "      <td>3</td>\n",
       "      <td>16083</td>\n",
       "      <td>3.54</td>\n",
       "      <td>fed</td>\n",
       "      <td>1.264127</td>\n",
       "    </tr>\n",
       "    <tr>\n",
       "      <th>3</th>\n",
       "      <td>0</td>\n",
       "      <td>apo</td>\n",
       "      <td>p1</td>\n",
       "      <td>4</td>\n",
       "      <td>14522</td>\n",
       "      <td>3.20</td>\n",
       "      <td>fed</td>\n",
       "      <td>1.163151</td>\n",
       "    </tr>\n",
       "    <tr>\n",
       "      <th>4</th>\n",
       "      <td>0</td>\n",
       "      <td>apo</td>\n",
       "      <td>p1</td>\n",
       "      <td>5</td>\n",
       "      <td>12001</td>\n",
       "      <td>2.64</td>\n",
       "      <td>fed</td>\n",
       "      <td>0.970779</td>\n",
       "    </tr>\n",
       "  </tbody>\n",
       "</table>\n",
       "</div>"
      ],
      "text/plain": [
       "   day symbiosis individual  name    pxl   mm2 condition  log body size\n",
       "0    0       apo         p1     1  18092  3.99       fed       1.383791\n",
       "1    0       apo         p1     2  16930  3.73       fed       1.316408\n",
       "2    0       apo         p1     3  16083  3.54       fed       1.264127\n",
       "3    0       apo         p1     4  14522  3.20       fed       1.163151\n",
       "4    0       apo         p1     5  12001  2.64       fed       0.970779"
      ]
     },
     "execution_count": 45,
     "metadata": {},
     "output_type": "execute_result"
    }
   ],
   "source": [
    "#add column for the log transforms of mm2\n",
    "log_body = np.log(df.iloc[:, 5]).values\n",
    "log_body=log_body.tolist()\n",
    "df['log body size'] = log_body\n",
    "df.head()"
   ]
  },
  {
   "cell_type": "code",
   "execution_count": null,
   "id": "7b94672c",
   "metadata": {
    "id": "7b94672c"
   },
   "outputs": [],
   "source": [
    "#Separate apo from sym\n",
    "df_apo=df.loc[df['symbiosis'] == 'apo']\n",
    "df_symb=df.loc[df['symbiosis'] == 'sym']\n",
    "\n",
    "#save as csv files\n",
    "df_apo.to_csv('Data/apo.csv')\n",
    "df_symb.to_csv('Data/symb.csv')"
   ]
  },
  {
   "cell_type": "markdown",
   "id": "9c324fb2",
   "metadata": {
    "id": "9c324fb2"
   },
   "source": [
    "Prepare the outputs of slope values from bootstrapping in R:"
   ]
  },
  {
   "cell_type": "code",
   "execution_count": null,
   "id": "5d56cbf9",
   "metadata": {
    "id": "5d56cbf9",
    "outputId": "bb04bae6-7a82-41a7-8127-281664f82f70"
   },
   "outputs": [
    {
     "data": {
      "text/html": [
       "<div>\n",
       "<style scoped>\n",
       "    .dataframe tbody tr th:only-of-type {\n",
       "        vertical-align: middle;\n",
       "    }\n",
       "\n",
       "    .dataframe tbody tr th {\n",
       "        vertical-align: top;\n",
       "    }\n",
       "\n",
       "    .dataframe thead th {\n",
       "        text-align: right;\n",
       "    }\n",
       "</style>\n",
       "<table border=\"1\" class=\"dataframe\">\n",
       "  <thead>\n",
       "    <tr style=\"text-align: right;\">\n",
       "      <th></th>\n",
       "      <th>b_1.apo</th>\n",
       "      <th>b_2.apo</th>\n",
       "      <th>b_1.symb</th>\n",
       "      <th>b_2.symb</th>\n",
       "    </tr>\n",
       "  </thead>\n",
       "  <tbody>\n",
       "    <tr>\n",
       "      <th>1</th>\n",
       "      <td>0.193148</td>\n",
       "      <td>-0.025129</td>\n",
       "      <td>0.213395</td>\n",
       "      <td>-0.007480</td>\n",
       "    </tr>\n",
       "    <tr>\n",
       "      <th>2</th>\n",
       "      <td>0.173310</td>\n",
       "      <td>-0.024321</td>\n",
       "      <td>0.139210</td>\n",
       "      <td>-0.009910</td>\n",
       "    </tr>\n",
       "    <tr>\n",
       "      <th>3</th>\n",
       "      <td>0.213494</td>\n",
       "      <td>-0.025311</td>\n",
       "      <td>0.208915</td>\n",
       "      <td>-0.007869</td>\n",
       "    </tr>\n",
       "    <tr>\n",
       "      <th>4</th>\n",
       "      <td>0.175327</td>\n",
       "      <td>-0.024605</td>\n",
       "      <td>0.149353</td>\n",
       "      <td>-0.017770</td>\n",
       "    </tr>\n",
       "    <tr>\n",
       "      <th>5</th>\n",
       "      <td>0.200203</td>\n",
       "      <td>-0.023731</td>\n",
       "      <td>0.224535</td>\n",
       "      <td>-0.006843</td>\n",
       "    </tr>\n",
       "  </tbody>\n",
       "</table>\n",
       "</div>"
      ],
      "text/plain": [
       "    b_1.apo   b_2.apo  b_1.symb  b_2.symb\n",
       "1  0.193148 -0.025129  0.213395 -0.007480\n",
       "2  0.173310 -0.024321  0.139210 -0.009910\n",
       "3  0.213494 -0.025311  0.208915 -0.007869\n",
       "4  0.175327 -0.024605  0.149353 -0.017770\n",
       "5  0.200203 -0.023731  0.224535 -0.006843"
      ]
     },
     "execution_count": 47,
     "metadata": {},
     "output_type": "execute_result"
    }
   ],
   "source": [
    "#outputs slopes boots\n",
    "df1=pd.read_csv('Data/apo_300.csv', index_col=0)\n",
    "df2=pd.read_csv('Data/symb_300.csv', index_col=0)\n",
    "\n",
    "df=pd.merge(df1, df2, left_index=True, right_index=True)\n",
    "df.head()"
   ]
  },
  {
   "cell_type": "code",
   "execution_count": null,
   "id": "dfe1ac42",
   "metadata": {
    "id": "dfe1ac42"
   },
   "outputs": [],
   "source": [
    "#save as csv file\n",
    "df.to_csv('Data/slopes_apo_symb.csv')"
   ]
  },
  {
   "cell_type": "code",
   "execution_count": null,
   "id": "a86af94f",
   "metadata": {
    "id": "a86af94f",
    "outputId": "871148f5-ea7f-4563-8d5a-c2a9602d8f7f"
   },
   "outputs": [
    {
     "data": {
      "text/html": [
       "<div>\n",
       "<style scoped>\n",
       "    .dataframe tbody tr th:only-of-type {\n",
       "        vertical-align: middle;\n",
       "    }\n",
       "\n",
       "    .dataframe tbody tr th {\n",
       "        vertical-align: top;\n",
       "    }\n",
       "\n",
       "    .dataframe thead th {\n",
       "        text-align: right;\n",
       "    }\n",
       "</style>\n",
       "<table border=\"1\" class=\"dataframe\">\n",
       "  <thead>\n",
       "    <tr style=\"text-align: right;\">\n",
       "      <th></th>\n",
       "      <th>Boots value</th>\n",
       "      <th>Legend</th>\n",
       "    </tr>\n",
       "  </thead>\n",
       "  <tbody>\n",
       "    <tr>\n",
       "      <th>b_1.apo</th>\n",
       "      <td>0.193148</td>\n",
       "      <td>b_1.apo</td>\n",
       "    </tr>\n",
       "    <tr>\n",
       "      <th>b_2.apo</th>\n",
       "      <td>-0.025129</td>\n",
       "      <td>b_2.apo</td>\n",
       "    </tr>\n",
       "    <tr>\n",
       "      <th>b_1.symb</th>\n",
       "      <td>0.213395</td>\n",
       "      <td>b_1.symb</td>\n",
       "    </tr>\n",
       "    <tr>\n",
       "      <th>b_2.symb</th>\n",
       "      <td>-0.007480</td>\n",
       "      <td>b_2.symb</td>\n",
       "    </tr>\n",
       "    <tr>\n",
       "      <th>b_1.apo</th>\n",
       "      <td>0.173310</td>\n",
       "      <td>b_1.apo</td>\n",
       "    </tr>\n",
       "  </tbody>\n",
       "</table>\n",
       "</div>"
      ],
      "text/plain": [
       "          Boots value    Legend\n",
       "b_1.apo      0.193148   b_1.apo\n",
       "b_2.apo     -0.025129   b_2.apo\n",
       "b_1.symb     0.213395  b_1.symb\n",
       "b_2.symb    -0.007480  b_2.symb\n",
       "b_1.apo      0.173310   b_1.apo"
      ]
     },
     "execution_count": 48,
     "metadata": {},
     "output_type": "execute_result"
    }
   ],
   "source": [
    "#reformat the dataframe for further plotting and analysis in R\n",
    "df_reseted=pd.DataFrame(df.stack().reset_index(level=0,drop=True))\n",
    "df_reseted.columns=[\"Boots value\"]\n",
    "axes_to_colum=df_reseted.index\n",
    "list_axes=df_reseted.index.tolist()\n",
    "df_reseted['Legend']=list_axes\n",
    "df_reseted.head()"
   ]
  },
  {
   "cell_type": "code",
   "execution_count": null,
   "id": "a148f25a",
   "metadata": {
    "id": "a148f25a"
   },
   "outputs": [],
   "source": [
    "#save as csv\n",
    "df_reseted.to_csv('Data/slopes_apo_symb_newformat.csv')"
   ]
  },
  {
   "cell_type": "markdown",
   "id": "4539e05d",
   "metadata": {
    "id": "4539e05d"
   },
   "source": [
    "Plot confidence intervals as bars and compute their overlap:"
   ]
  },
  {
   "cell_type": "code",
   "execution_count": null,
   "id": "46f88bf1",
   "metadata": {
    "id": "46f88bf1",
    "outputId": "992bfad6-3474-49cd-9bee-75dcbca620ca"
   },
   "outputs": [
    {
     "data": {
      "image/png": "[encoded data removed]",
      "text/plain": [
       "<Figure size 480x400 with 1 Axes>"
      ]
     },
     "metadata": {
      "needs_background": "light"
     },
     "output_type": "display_data"
    }
   ],
   "source": [
    "b1_apo=[0.14, 0.218]\n",
    "b2_apo=[-0.0289, -0.021]\n",
    "b1_symb=[0.133, 0.235]\n",
    "b2_symb=[-0.015, -0.00458]\n",
    "\n",
    "all_intervals = [b1_apo,b1_symb,b2_apo, b2_symb]\n",
    "\n",
    "fig,ax = plt.subplots(figsize = (6,5), dpi = 80)\n",
    "y_values=[]\n",
    "for i,j in enumerate(all_intervals):\n",
    "    x_values = [j[0], j[1]]\n",
    "    y_values = [i, i]\n",
    "    plt.plot(x_values, y_values, lw=10, alpha=1)\n",
    "plt.grid()\n",
    "plt.yticks(np.arange(0, len(all_intervals), 1.0))\n",
    "plt.title('Confidence intervals for Aiptasia', fontsize=15)\n",
    "ax.set_xlabel('Values (of the slopes)', fontsize=14)\n",
    "ax.set_yticklabels( ('first phase apo', 'first phase symb','second phase apo', 'second phase symb') )\n",
    "for label in (ax.get_xticklabels() + ax.get_yticklabels()):\n",
    "\tlabel.set_fontsize(14)\n",
    "plt.show()\n",
    "\n",
    "#save as svg\n",
    "fig.savefig('CI_aiptasia.svg', format='svg', dpi=5000)"
   ]
  }
 ],
 "metadata": {
  "colab": {
   "provenance": []
  },
  "kernelspec": {
   "display_name": "Python 3",
   "language": "python",
   "name": "python3"
  },
  "language_info": {
   "codemirror_mode": {
    "name": "ipython",
    "version": 3
   },
   "file_extension": ".py",
   "mimetype": "text/x-python",
   "name": "python",
   "nbconvert_exporter": "python",
   "pygments_lexer": "ipython3",
   "version": "3.6.9"
  }
 },
 "nbformat": 4,
 "nbformat_minor": 5
}
